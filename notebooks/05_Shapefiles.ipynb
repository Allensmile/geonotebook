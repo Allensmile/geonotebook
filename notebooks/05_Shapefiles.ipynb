{
 "cells": [
  {
   "cell_type": "code",
   "execution_count": 5,
   "metadata": {
    "collapsed": true
   },
   "outputs": [],
   "source": [
    "%matplotlib inline\n",
    "from matplotlib import pylab as plt\n",
    "from geonotebook.wrappers import VectorData"
   ]
  },
  {
   "cell_type": "code",
   "execution_count": 6,
   "metadata": {
    "collapsed": false
   },
   "outputs": [
    {
     "name": "stdout",
     "output_type": "stream",
     "text": [
      "  % Total    % Received % Xferd  Average Speed   Time    Time     Time  Current\n",
      "                                 Dload  Upload   Total   Spent    Left  Speed\n",
      "100  186k  100  186k    0     0   177k      0  0:00:01  0:00:01 --:--:--  177k\n",
      "Archive:  /tmp/states.zip\n",
      "  inflating: /tmp/states/cb_2015_us_state_20m.shp.ea.iso.xml  \n",
      "  inflating: /tmp/states/cb_2015_us_state_20m.shp.iso.xml  \n",
      "  inflating: /tmp/states/cb_2015_us_state_20m.shp.xml  \n",
      "  inflating: /tmp/states/cb_2015_us_state_20m.shp  \n",
      "  inflating: /tmp/states/cb_2015_us_state_20m.shx  \n",
      "  inflating: /tmp/states/cb_2015_us_state_20m.dbf  \n",
      "  inflating: /tmp/states/cb_2015_us_state_20m.prj  \n",
      " extracting: /tmp/states/cb_2015_us_state_20m.cpg  \n"
     ]
    }
   ],
   "source": [
    "!curl -o /tmp/states.zip http://www2.census.gov/geo/tiger/GENZ2015/shp/cb_2015_us_state_20m.zip\n",
    "!unzip /tmp/states.zip -d /tmp/states"
   ]
  },
  {
   "cell_type": "code",
   "execution_count": 13,
   "metadata": {
    "collapsed": false
   },
   "outputs": [
    {
     "data": {
      "text/plain": [
       "<promise.promise.Promise at 0x10911fb90>"
      ]
     },
     "execution_count": 13,
     "metadata": {},
     "output_type": "execute_result"
    }
   ],
   "source": [
    "vd = VectorData('/tmp/states')\n",
    "M.add_layer(vd)"
   ]
  },
  {
   "cell_type": "code",
   "execution_count": null,
   "metadata": {
    "collapsed": true
   },
   "outputs": [],
   "source": []
  }
 ],
 "metadata": {
  "kernelspec": {
   "display_name": "Geonotebook (Python 2)",
   "language": "python",
   "name": "geonotebook2"
  },
  "language_info": {
   "codemirror_mode": {
    "name": "ipython",
    "version": 2
   },
   "file_extension": ".py",
   "mimetype": "text/x-python",
   "name": "python",
   "nbconvert_exporter": "python",
   "pygments_lexer": "ipython2",
   "version": "2.7.12"
  }
 },
 "nbformat": 4,
 "nbformat_minor": 1
}
