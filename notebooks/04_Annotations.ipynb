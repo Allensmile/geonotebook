{
 "cells": [
  {
   "cell_type": "code",
   "execution_count": null,
   "metadata": {
    "collapsed": true
   },
   "outputs": [],
   "source": [
    "%matplotlib inline\n",
    "from matplotlib import pylab as plt\n",
    "import os\n",
    "from geonotebook.wrappers import RasterData, RasterDataCollection"
   ]
  },
  {
   "cell_type": "markdown",
   "metadata": {},
   "source": [
    "## Raster Data"
   ]
  },
  {
   "cell_type": "code",
   "execution_count": null,
   "metadata": {
    "collapsed": false
   },
   "outputs": [],
   "source": [
    "rd = RasterData('data/L57.Globe.month09.2010.hh09vv04.h6v1.doy247to273.NBAR.v3.0.tiff')\n",
    "M.add_layer(rd[[1,2,3]], opacity=0.9, range=(0.,0.2)).then(\n",
    "  M.set_center(-120.32, 47.84, 9))"
   ]
  },
  {
   "cell_type": "code",
   "execution_count": null,
   "metadata": {
    "collapsed": false
   },
   "outputs": [],
   "source": [
    "d, n = M.layers.annotation.polygons[0].data.next()\n",
    "# d, n = M.layers.annotation.rectangles[1].data.next()"
   ]
  },
  {
   "cell_type": "code",
   "execution_count": null,
   "metadata": {
    "collapsed": false
   },
   "outputs": [],
   "source": [
    "from skimage.exposure import rescale_intensity\n",
    "fig, ax = plt.subplots(figsize=(16, 16))\n",
    "ax.imshow(rescale_intensity(n, (0, 0.3)), interpolation='none')"
   ]
  },
  {
   "cell_type": "code",
   "execution_count": null,
   "metadata": {
    "collapsed": false
   },
   "outputs": [],
   "source": [
    "M.remove_layer(M.layers[-1].name)\n",
    "M.layers.annotation.clear_annotations()"
   ]
  },
  {
   "cell_type": "markdown",
   "metadata": {},
   "source": [
    "## Raster Data Collection"
   ]
  },
  {
   "cell_type": "code",
   "execution_count": null,
   "metadata": {
    "collapsed": false
   },
   "outputs": [],
   "source": [
    "DATA_DIR=\"data/\""
   ]
  },
  {
   "cell_type": "code",
   "execution_count": null,
   "metadata": {
    "collapsed": false
   },
   "outputs": [],
   "source": [
    "def sort_NBAR(a, b):\n",
    "  am, ay = int(a.split(\".\")[2][-2:]), int(a.split(\".\")[3])\n",
    "  bm, by = int(b.split(\".\")[2][-2:]), int(b.split(\".\")[3])\n",
    "\n",
    "  if ay < by:\n",
    "    return -1\n",
    "  elif ay > by:\n",
    "    return 1\n",
    "  elif by == ay:\n",
    "    if am < bm:\n",
    "      return -1\n",
    "    elif am > bm:\n",
    "      return 1\n",
    "    else:\n",
    "      return 0\n",
    "  \n",
    "\n",
    "PATHS = [DATA_DIR + p for p in sorted(os.listdir(DATA_DIR), sort_NBAR)]"
   ]
  },
  {
   "cell_type": "code",
   "execution_count": null,
   "metadata": {
    "collapsed": false
   },
   "outputs": [],
   "source": [
    "PATHS"
   ]
  },
  {
   "cell_type": "code",
   "execution_count": null,
   "metadata": {
    "collapsed": false
   },
   "outputs": [],
   "source": [
    "rdc = RasterDataCollection(PATHS)"
   ]
  },
  {
   "cell_type": "code",
   "execution_count": null,
   "metadata": {
    "collapsed": false
   },
   "outputs": [],
   "source": [
    "import matplotlib as mpl\n",
    "import numpy as np\n",
    "\n",
    "def ndvi_colormap(numcolors=11, name='custom_div_cmap', \n",
    "                  mincol='blue', midcol='beige', maxcol='green'):\n",
    "  return mpl.colors.LinearSegmentedColormap.from_list(\n",
    "    name=name, colors=[mincol, midcol, maxcol], N=numcolors)\n",
    "\n",
    "cmap = ndvi_colormap()"
   ]
  },
  {
   "cell_type": "code",
   "execution_count": null,
   "metadata": {
    "collapsed": false
   },
   "outputs": [],
   "source": [
    "M.add_layer(rdc[:,4], 'NBAR', opacity=0.8, colormap=cmap).then(\n",
    " M.set_center(-120.32, 47.84, 9))"
   ]
  },
  {
   "cell_type": "code",
   "execution_count": null,
   "metadata": {
    "collapsed": false
   },
   "outputs": [],
   "source": [
    "M.layers['NBAR'].next()"
   ]
  },
  {
   "cell_type": "code",
   "execution_count": null,
   "metadata": {
    "collapsed": false
   },
   "outputs": [],
   "source": [
    "from ipywidgets import interact\n",
    "import ipywidgets as widgets\n",
    "\n",
    "M.layers['NBAR'].seek(0)\n",
    "\n",
    "def render_timeseries(idx=0):\n",
    "  M.layers[\"NBAR\"].seek(idx)\n",
    "  \n",
    "interact(render_timeseries, idx=(0, len(M.layers[\"NBAR\"].data) - 1))"
   ]
  },
  {
   "cell_type": "markdown",
   "metadata": {},
   "source": [
    "### Points"
   ]
  },
  {
   "cell_type": "code",
   "execution_count": null,
   "metadata": {
    "collapsed": false
   },
   "outputs": [],
   "source": [
    "import seaborn as sns\n",
    "\n",
    "labels = [\"{}/{}\".format(n.split(\".\")[2][5:], n.split(\".\")[3]) for n in \n",
    "                         M.layers[-1].data.get_names()]\n",
    "\n",
    "fig, ax = plt.subplots(1,1, figsize=(12, 8))\n",
    "plt.title(\"NDVI over selected points\")\n",
    "plt.xticks(range(len(M.layers[-1].data))[::4], labels[::4])\n",
    "\n",
    "for p in M.layers.annotation.points:\n",
    "  layer, data = p.data.next()\n",
    "  ax.plot(data, color=p.rgb, label=p.name)\n",
    "  \n",
    "plt.legend()"
   ]
  },
  {
   "cell_type": "code",
   "execution_count": null,
   "metadata": {
    "collapsed": false
   },
   "outputs": [],
   "source": [
    "M.layers.annotation.clear_annotations()"
   ]
  },
  {
   "cell_type": "markdown",
   "metadata": {},
   "source": [
    "### Polygons"
   ]
  },
  {
   "cell_type": "code",
   "execution_count": null,
   "metadata": {
    "collapsed": false
   },
   "outputs": [],
   "source": [
    "import seaborn as sns\n",
    "\n",
    "labels = [\"{}/{}\".format(n.split(\".\")[2][5:], n.split(\".\")[3]) for n in \n",
    "                         M.layers[-1].data.get_names()]\n",
    "\n",
    "fig, ax = plt.subplots(1,1, figsize=(12, 8))\n",
    "plt.title(\"Mean NDVI over selected polygons\")\n",
    "plt.xticks(range(len(M.layers[-1].data))[::4], labels[::4])\n",
    "\n",
    "for p in M.layers.annotation.polygons:\n",
    "  layer, data = p.data.next()\n",
    "  time, lat, lon = data.shape\n",
    "  ax.plot(data.reshape(time, lat * lon).mean(axis=1),\n",
    "          color=p.rgb, label=p.name)\n",
    "\n",
    "plt.legend()"
   ]
  },
  {
   "cell_type": "code",
   "execution_count": null,
   "metadata": {
    "collapsed": false
   },
   "outputs": [],
   "source": [
    "M.layers.annotation.clear_annotations()\n",
    "M.remove_layer(\"NBAR\")"
   ]
  }
 ],
 "metadata": {
  "kernelspec": {
   "display_name": "Geonotebook (Python 2)",
   "language": "python",
   "name": "geonotebook2"
  },
  "language_info": {
   "codemirror_mode": {
    "name": "ipython",
    "version": 2
   },
   "file_extension": ".py",
   "mimetype": "text/x-python",
   "name": "python",
   "nbconvert_exporter": "python",
   "pygments_lexer": "ipython2",
   "version": "2.7.12"
  },
  "widgets": {
   "state": {
    "482e38fad34b4a7590e776671b462dbc": {
     "views": [
      {
       "cell_index": 14
      }
     ]
    },
    "8405fe188e284cd3bb6a36c73374d865": {
     "views": []
    },
    "86ee1af69ec54316b1f2454baec54521": {
     "views": []
    },
    "94c740cb87224a608b5246a3aae11cab": {
     "views": []
    }
   },
   "version": "1.1.2"
  }
 },
 "nbformat": 4,
 "nbformat_minor": 1
}
