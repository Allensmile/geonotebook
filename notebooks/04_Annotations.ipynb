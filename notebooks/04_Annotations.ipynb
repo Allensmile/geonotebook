{
 "cells": [
  {
   "cell_type": "code",
   "execution_count": null,
   "metadata": {
    "collapsed": true
   },
   "outputs": [],
   "source": [
    "%matplotlib inline\n",
    "from matplotlib import pylab as plt\n",
    "import os\n",
    "from geonotebook.wrappers import RasterData, RasterDataCollection"
   ]
  },
  {
   "cell_type": "markdown",
   "metadata": {},
   "source": [
    "## Raster Data Collection"
   ]
  },
  {
   "cell_type": "code",
   "execution_count": null,
   "metadata": {},
   "outputs": [],
   "source": [
    "DATA_DIR=\"data/\""
   ]
  },
  {
   "cell_type": "code",
   "execution_count": null,
   "metadata": {},
   "outputs": [],
   "source": [
    "def sort_NBAR(path):\n",
    "  m, y = int(path.split(\".\")[2][-2:]), int(path.split(\".\")[3])\n",
    "  return (y * 100) + m\n",
    "\n",
    "\n",
    "PATHS = [DATA_DIR + p for p in sorted([\n",
    "    f for f in os.listdir(DATA_DIR) if f.startswith('L57')], key=sort_NBAR)]"
   ]
  },
  {
   "cell_type": "code",
   "execution_count": null,
   "metadata": {
    "scrolled": true
   },
   "outputs": [],
   "source": [
    "PATHS"
   ]
  },
  {
   "cell_type": "code",
   "execution_count": null,
   "metadata": {},
   "outputs": [],
   "source": [
    "rdc = RasterDataCollection(PATHS)"
   ]
  },
  {
   "cell_type": "code",
   "execution_count": null,
   "metadata": {},
   "outputs": [],
   "source": [
    "import matplotlib as mpl\n",
    "import numpy as np\n",
    "\n",
    "def ndvi_colormap(numcolors=11, name='custom_div_cmap', \n",
    "                  mincol='blue', midcol='beige', maxcol='green'):\n",
    "  return mpl.colors.LinearSegmentedColormap.from_list(\n",
    "    name=name, colors=[mincol, midcol, maxcol], N=numcolors)\n",
    "\n",
    "cmap = ndvi_colormap()"
   ]
  },
  {
   "cell_type": "code",
   "execution_count": null,
   "metadata": {},
   "outputs": [],
   "source": [
    "M.add_layer(rdc[:,4], 'NBAR', opacity=0.8, colormap=cmap).then(\n",
    " M.set_center(-120.32, 47.84, 9))"
   ]
  },
  {
   "cell_type": "code",
   "execution_count": null,
   "metadata": {},
   "outputs": [],
   "source": [
    "M.layers[0].forward()"
   ]
  },
  {
   "cell_type": "code",
   "execution_count": null,
   "metadata": {},
   "outputs": [],
   "source": [
    "from ipywidgets import interact\n",
    "import ipywidgets as widgets\n",
    "\n",
    "M.layers[0].idx(0)\n",
    "\n",
    "def render_timeseries(idx=0):\n",
    "  M.layers[0].idx(idx)\n",
    "  \n",
    "interact(render_timeseries, idx=(0, len(M.layers[0].data) - 1))"
   ]
  },
  {
   "cell_type": "markdown",
   "metadata": {},
   "source": [
    "### Points"
   ]
  },
  {
   "cell_type": "code",
   "execution_count": null,
   "metadata": {},
   "outputs": [],
   "source": [
    "import seaborn as sns\n",
    "\n",
    "labels = [\"{}/{}\".format(n.split(\".\")[2][5:], n.split(\".\")[3]) for n in \n",
    "                         M.layers[-1].data.get_names()]\n",
    "\n",
    "fig, ax = plt.subplots(1,1, figsize=(12, 8))\n",
    "plt.title(\"NDVI over selected points\")\n",
    "plt.xticks(range(len(M.layers[-1].data))[::4], labels[::4])\n",
    "\n",
    "for p in M.layers.annotation.points:\n",
    "  layer, data = next(p.data)\n",
    "  ax.plot(data, color=p.rgb, label=p.name)\n",
    "  \n",
    "plt.legend()"
   ]
  },
  {
   "cell_type": "code",
   "execution_count": null,
   "metadata": {},
   "outputs": [],
   "source": [
    "M.layers.annotation.clear_annotations()"
   ]
  },
  {
   "cell_type": "markdown",
   "metadata": {},
   "source": [
    "### Polygons"
   ]
  },
  {
   "cell_type": "code",
   "execution_count": null,
   "metadata": {},
   "outputs": [],
   "source": [
    "import seaborn as sns\n",
    "\n",
    "labels = [\"{}/{}\".format(n.split(\".\")[2][5:], n.split(\".\")[3]) for n in \n",
    "                         M.layers[-1].data.get_names()]\n",
    "\n",
    "fig, ax = plt.subplots(1,1, figsize=(12, 8))\n",
    "plt.title(\"Mean NDVI over selected polygons\")\n",
    "plt.xticks(range(len(M.layers[-1].data))[::4], labels[::4])\n",
    "\n",
    "for p in M.layers.annotation.polygons:\n",
    "  layer, data = next(p.data)\n",
    "  time, lat, lon = data.shape\n",
    "  ax.plot(data.reshape(time, lat * lon).mean(axis=1),\n",
    "          color=p.rgb, label=p.name)\n",
    "\n",
    "plt.legend()"
   ]
  },
  {
   "cell_type": "code",
   "execution_count": null,
   "metadata": {
    "collapsed": true
   },
   "outputs": [],
   "source": [
    "M.layers.annotation.clear_annotations()\n",
    "M.remove_layer(\"NBAR\")"
   ]
  }
 ],
 "metadata": {
  "kernelspec": {
   "display_name": "Geonotebook (Python 2)",
   "language": "python",
   "name": "geonotebook2"
  },
  "language_info": {
   "codemirror_mode": {
    "name": "ipython",
    "version": 2
   },
   "file_extension": ".py",
   "mimetype": "text/x-python",
   "name": "python",
   "nbconvert_exporter": "python",
   "pygments_lexer": "ipython2",
   "version": "2.7.13"
  }
 },
 "nbformat": 4,
 "nbformat_minor": 1
}
