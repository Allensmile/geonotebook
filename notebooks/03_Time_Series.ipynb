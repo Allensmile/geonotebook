{
 "cells": [
  {
   "cell_type": "code",
   "execution_count": 1,
   "metadata": {
    "collapsed": true
   },
   "outputs": [],
   "source": [
    "%matplotlib inline\n",
    "from matplotlib import pylab as plt\n",
    "from ipywidgets import interact\n",
    "import ipywidgets as widgets\n",
    "import matplotlib as mpl\n",
    "import numpy as np\n",
    "from geonotebook.wrappers import RasterDataCollection\n",
    "import os"
   ]
  },
  {
   "cell_type": "markdown",
   "metadata": {},
   "source": [
    "## Download the Data\n",
    "\n",
    "The following cell is a bash one-liner for downloading monthly NBAR geotiffs from roughly Dec 2008 to Dec 2011. This data will download into a ```data/``` directory relative to the directory where this notebook is running. There are 36 files making up about **8Gb** of data. This may take some time to download so please be patient. You should recieve notification in the cell output for each downloaded file. \n",
    "\n",
    "For convenience here is an beautified version of the bash one-liner:\n",
    "\n",
    "```bash\n",
    "# Recursively download the data\n",
    "if hash girder-cli 2>/dev/null; then \n",
    "  girder-cli --api-url https://data.kitware.com/api/v1 localsync 58dd35fd8d777f0aef5d8c73 data;\n",
    "else \n",
    "  echo \"girder-client is required (hint: pip install girder-client)\"; \n",
    "fi\n",
    "```"
   ]
  },
  {
   "cell_type": "code",
   "execution_count": 3,
   "metadata": {
    "scrolled": true
   },
   "outputs": [
    {
     "name": "stdout",
     "output_type": "stream",
     "text": [
      "Local metadata does not exists. Falling back to download.\n",
      "\u001b[?25l[####################################]  210.03M/210.03M  100%  L57.Globe.month01.2009.hh09vv04.h6v1.doy005to031.NBAR.v3.0.tiff             \u001b[?25h\n",
      "\u001b[?25l[####################################]  210.02M/210.02M  100%  L57.Globe.month01.2010.hh09vv04.h6v1.doy003to027.NBAR.v3.0.tiff             \u001b[?25h\n",
      "\u001b[?25l[####################################]  210.03M/210.03M  100%  L57.Globe.month01.2011.hh09vv04.h6v1.doy002to030.NBAR.v3.0.tiff             \u001b[?25h\n",
      "\u001b[?25l[####################################]  210.02M/210.02M  100%  L57.Globe.month02.2009.hh09vv04.h6v1.doy032to055.NBAR.v3.0.tiff             \u001b[?25h\n",
      "\u001b[?25l[####################################]  210.03M/210.03M  100%  L57.Globe.month02.2010.hh09vv04.h6v1.doy032to059.NBAR.v3.0.tiff             \u001b[?25h\n",
      "\u001b[?25l[####################################]  210.02M/210.02M  100%  L57.Globe.month02.2011.hh09vv04.h6v1.doy036to059.NBAR.v3.0.tiff             \u001b[?25h\n",
      "\u001b[?25l[####################################]  210.03M/210.03M  100%  L57.Globe.month03.2009.hh09vv04.h6v1.doy060to087.NBAR.v3.0.tiff             \u001b[?25h\n",
      "\u001b[?25l[####################################]  210.03M/210.03M  100%  L57.Globe.month03.2010.hh09vv04.h6v1.doy063to090.NBAR.v3.0.tiff             \u001b[?25h\n",
      "\u001b[?25l[####################################]  210.03M/210.03M  100%  L57.Globe.month03.2011.hh09vv04.h6v1.doy062to090.NBAR.v3.0.tiff             \u001b[?25h\n",
      "\u001b[?25l[####################################]  210.03M/210.03M  100%  L57.Globe.month04.2009.hh09vv04.h6v1.doy093to120.NBAR.v3.0.tiff             \u001b[?25h\n",
      "\u001b[?25l[####################################]  210.03M/210.03M  100%  L57.Globe.month04.2010.hh09vv04.h6v1.doy091to120.NBAR.v3.0.tiff             \u001b[?25h\n",
      "\u001b[?25l[####################################]  210.03M/210.03M  100%  L57.Globe.month04.2011.hh09vv04.h6v1.doy091to118.NBAR.v3.0.tiff             \u001b[?25h\n",
      "\u001b[?25l[####################################]  210.03M/210.03M  100%  L57.Globe.month05.2009.hh09vv04.h6v1.doy124to151.NBAR.v3.0.tiff             \u001b[?25h\n",
      "\u001b[?25l[####################################]  210.03M/210.03M  100%  L57.Globe.month05.2010.hh09vv04.h6v1.doy121to144.NBAR.v3.0.tiff             \u001b[?25h\n",
      "\u001b[?25l[####################################]  210.03M/210.03M  100%  L57.Globe.month05.2011.hh09vv04.h6v1.doy123to150.NBAR.v3.0.tiff             \u001b[?25h\n",
      "\u001b[?25l[####################################]  210.03M/210.03M  100%  L57.Globe.month06.2009.hh09vv04.h6v1.doy152to181.NBAR.v3.0.tiff             \u001b[?25h\n",
      "\u001b[?25l[####################################]  210.03M/210.03M  100%  L57.Globe.month06.2010.hh09vv04.h6v1.doy152to179.NBAR.v3.0.tiff             \u001b[?25h\n",
      "\u001b[?25l[####################################]  210.03M/210.03M  100%  L57.Globe.month06.2011.hh09vv04.h6v1.doy154to181.NBAR.v3.0.tiff             \u001b[?25h\n",
      "\u001b[?25l[####################################]  210.03M/210.03M  100%  L57.Globe.month07.2009.hh09vv04.h6v1.doy182to212.NBAR.v3.0.tiff             \u001b[?25h\n",
      "\u001b[?25l[####################################]  210.03M/210.03M  100%  L57.Globe.month07.2010.hh09vv04.h6v1.doy183to211.NBAR.v3.0.tiff             \u001b[?25h\n",
      "\u001b[?25l[####################################]  210.03M/210.03M  100%  L57.Globe.month07.2011.hh09vv04.h6v1.doy182to212.NBAR.v3.0.tiff             \u001b[?25h\n",
      "\u001b[?25l[####################################]  210.03M/210.03M  100%  L57.Globe.month08.2009.hh09vv04.h6v1.doy213to240.NBAR.v3.0.tiff             \u001b[?25h\n",
      "\u001b[?25l[####################################]  210.03M/210.03M  100%  L57.Globe.month08.2010.hh09vv04.h6v1.doy215to242.NBAR.v3.0.tiff             \u001b[?25h\n",
      "\u001b[?25l[####################################]  210.03M/210.03M  100%  L57.Globe.month08.2011.hh09vv04.h6v1.doy213to243.NBAR.v3.0.tiff             \u001b[?25h\n",
      "\u001b[?25l[####################################]  210.03M/210.03M  100%  L57.Globe.month09.2009.hh09vv04.h6v1.doy244to271.NBAR.v3.0.tiff             \u001b[?25h\n",
      "\u001b[?25l[####################################]  210.03M/210.03M  100%  L57.Globe.month09.2010.hh09vv04.h6v1.doy247to273.NBAR.v3.0.tiff             \u001b[?25h\n",
      "\u001b[?25l[####################################]  210.03M/210.03M  100%  L57.Globe.month09.2011.hh09vv04.h6v1.doy244to269.NBAR.v3.0.tiff             \u001b[?25h\n",
      "\u001b[?25l[####################################]  210.03M/210.03M  100%  L57.Globe.month10.2009.hh09vv04.h6v1.doy276to304.NBAR.v3.0.tiff             \u001b[?25h\n",
      "\u001b[?25l[####################################]  210.03M/210.03M  100%  L57.Globe.month10.2010.hh09vv04.h6v1.doy274to304.NBAR.v3.0.tiff             \u001b[?25h\n",
      "\u001b[?25l[####################################]  210.03M/210.03M  100%  L57.Globe.month10.2011.hh09vv04.h6v1.doy275to302.NBAR.v3.0.tiff             \u001b[?25h\n",
      "\u001b[?25l[####################################]  210.03M/210.03M  100%  L57.Globe.month11.2009.hh09vv04.h6v1.doy308to334.NBAR.v3.0.tiff             \u001b[?25h\n",
      "\u001b[?25l[####################################]  210.02M/210.02M  100%  L57.Globe.month11.2010.hh09vv04.h6v1.doy305to328.NBAR.v3.0.tiff             \u001b[?25h\n",
      "\u001b[?25l[####################################]  210.03M/210.03M  100%  L57.Globe.month11.2011.hh09vv04.h6v1.doy306to324.NBAR.v3.0.tiff             \u001b[?25h\n",
      "\u001b[?25l[####################################]  210.02M/210.02M  100%  L57.Globe.month12.2008.hh09vv04.h6v1.doy339to366.NBAR.v3.0.tiff             \u001b[?25h\n",
      "\u001b[?25l[####################################]  210.02M/210.02M  100%  L57.Globe.month12.2009.hh09vv04.h6v1.doy335to359.NBAR.v3.0.tiff             \u001b[?25h  009.hh09vv04.h6v1.doy335to359.NBAR.v3.0.tiff009.hh09vv04.h6v1.doy335to359.NBAR.v3.0.tiff\n",
      "\u001b[?25l[####################################]  210.03M/210.03M  100%  L57.Globe.month12.2010.hh09vv04.h6v1.doy335to362.NBAR.v3.0.tiff             \u001b[?25h/210.03M    4%  L57.Globe.month12.2010.hh09vv04.h6v1.doy335to362.NBAR.v3.0.tiff   \n"
     ]
    }
   ],
   "source": [
    "!if hash girder-cli 2>/dev/null; then girder-cli --api-url https://data.kitware.com/api/v1 localsync 58dd35fd8d777f0aef5d8c73 data; else echo \"girder-client is required (hint: pip install girder-client)\"; fi"
   ]
  },
  {
   "cell_type": "code",
   "execution_count": 2,
   "metadata": {
    "collapsed": true
   },
   "outputs": [],
   "source": [
    "DATA_DIR=\"data/\""
   ]
  },
  {
   "cell_type": "code",
   "execution_count": 3,
   "metadata": {
    "collapsed": true
   },
   "outputs": [],
   "source": [
    "def sort_NBAR(path):\n",
    "  m, y = int(path.split(\".\")[2][-2:]), int(path.split(\".\")[3])\n",
    "  return (y * 100) + m\n",
    "\n",
    "\n",
    "PATHS = [DATA_DIR + p for p in sorted([\n",
    "    f for f in os.listdir(DATA_DIR) if f.startswith('L57')], key=sort_NBAR)]"
   ]
  },
  {
   "cell_type": "code",
   "execution_count": 5,
   "metadata": {
    "collapsed": true
   },
   "outputs": [],
   "source": [
    "rdc = RasterDataCollection(PATHS)"
   ]
  },
  {
   "cell_type": "code",
   "execution_count": 9,
   "metadata": {},
   "outputs": [
    {
     "data": {
      "text/plain": [
       "<Promise at 0x7f8df7fbb310 pending>"
      ]
     },
     "execution_count": 9,
     "metadata": {},
     "output_type": "execute_result"
    }
   ],
   "source": [
    "M.add_layer(rdc[:,[1,2,3]], 'NBAR', opacity=0.8, gamma=2.0)"
   ]
  },
  {
   "cell_type": "code",
   "execution_count": 15,
   "metadata": {},
   "outputs": [
    {
     "data": {
      "text/plain": [
       "<geonotebook.wrappers.raster.RasterData at 0x7f8df7c81ed0>"
      ]
     },
     "execution_count": 15,
     "metadata": {},
     "output_type": "execute_result"
    }
   ],
   "source": [
    "M.layers[0].forward()"
   ]
  },
  {
   "cell_type": "code",
   "execution_count": 17,
   "metadata": {},
   "outputs": [
    {
     "data": {
      "text/plain": [
       "<geonotebook.wrappers.raster.RasterData at 0x7f8df7fbb350>"
      ]
     },
     "execution_count": 17,
     "metadata": {},
     "output_type": "execute_result"
    }
   ],
   "source": [
    "M.layers[0].backward()"
   ]
  },
  {
   "cell_type": "code",
   "execution_count": 18,
   "metadata": {},
   "outputs": [
    {
     "data": {
      "text/plain": [
       "<geonotebook.wrappers.raster.RasterData at 0x7f8df7c81d50>"
      ]
     },
     "execution_count": 18,
     "metadata": {},
     "output_type": "execute_result"
    }
   ],
   "source": [
    "M.layers[0].idx(0)"
   ]
  },
  {
   "cell_type": "code",
   "execution_count": 19,
   "metadata": {},
   "outputs": [
    {
     "data": {
      "text/plain": [
       "36"
      ]
     },
     "execution_count": 19,
     "metadata": {},
     "output_type": "execute_result"
    }
   ],
   "source": [
    "len(M.layers[0].data)"
   ]
  },
  {
   "cell_type": "code",
   "execution_count": 20,
   "metadata": {},
   "outputs": [],
   "source": [
    "def render_timeseries(idx=0):\n",
    "  M.layers[0].idx(idx)\n",
    "  \n",
    "interact(render_timeseries, idx=(0, len(M.layers[0].data) - 1))"
   ]
  },
  {
   "cell_type": "code",
   "execution_count": 21,
   "metadata": {},
   "outputs": [
    {
     "data": {
      "text/plain": [
       "<geonotebook.wrappers.raster.RasterData at 0x7f8df7c9df50>"
      ]
     },
     "execution_count": 21,
     "metadata": {},
     "output_type": "execute_result"
    }
   ],
   "source": [
    "M.layers[0].idx(1)"
   ]
  },
  {
   "cell_type": "code",
   "execution_count": 25,
   "metadata": {},
   "outputs": [
    {
     "data": {
      "text/plain": [
       "OrderedDict([('NBAR_L57.Globe.month12.2008.hh09vv04.h6v1.doy339to366.NBAR.v3.0_6398296525190606691',\n",
       "              <TimeSeriesLayer('NBAR')>)])"
      ]
     },
     "execution_count": 25,
     "metadata": {},
     "output_type": "execute_result"
    }
   ],
   "source": [
    "M.layers._layers"
   ]
  },
  {
   "cell_type": "code",
   "execution_count": 23,
   "metadata": {},
   "outputs": [
    {
     "data": {
      "text/plain": [
       "<Promise at 0x7f0c762f4610 pending>"
      ]
     },
     "execution_count": 23,
     "metadata": {},
     "output_type": "execute_result"
    }
   ],
   "source": [
    "M.add_layer(rdc[:,[4]], 'NBAR_NDVI', opacity=0.8)"
   ]
  },
  {
   "cell_type": "code",
   "execution_count": 33,
   "metadata": {
    "collapsed": true
   },
   "outputs": [],
   "source": [
    "def ndvi_colormap(numcolors=11, name='custom_div_cmap', \n",
    "                  mincol='blue', midcol='beige', maxcol='green'):\n",
    "  return mpl.colors.LinearSegmentedColormap.from_list(\n",
    "    name=name, colors=[mincol, midcol, maxcol], N=numcolors)\n",
    "\n",
    "cmap = ndvi_colormap()\n"
   ]
  },
  {
   "cell_type": "code",
   "execution_count": 34,
   "metadata": {},
   "outputs": [
    {
     "data": {
      "text/plain": [
       "<Promise at 0x7f0c76277f10 pending>"
      ]
     },
     "execution_count": 34,
     "metadata": {},
     "output_type": "execute_result"
    }
   ],
   "source": [
    "M.add_layer(rdc[:,4], 'NBAR_NDVI', colormap=cmap, opacity=0.8)"
   ]
  },
  {
   "cell_type": "code",
   "execution_count": 35,
   "metadata": {},
   "outputs": [
    {
     "data": {
      "text/plain": [
       "<geonotebook.wrappers.raster.RasterData at 0x7f0c762eba50>"
      ]
     },
     "execution_count": 35,
     "metadata": {},
     "output_type": "execute_result"
    }
   ],
   "source": [
    "M.layers[0].forward()"
   ]
  },
  {
   "cell_type": "code",
   "execution_count": 36,
   "metadata": {},
   "outputs": [
    {
     "data": {
      "text/plain": [
       "<GeonotebookLayerCollection([<TimeSeriesLayer('NBAR')>, <TimeSeriesLayer('NBAR')>])>"
      ]
     },
     "execution_count": 36,
     "metadata": {},
     "output_type": "execute_result"
    }
   ],
   "source": [
    "M.layers"
   ]
  }
 ],
 "metadata": {
  "kernelspec": {
   "display_name": "Geonotebook (Python 2)",
   "language": "python",
   "name": "geonotebook2"
  },
  "language_info": {
   "codemirror_mode": {
    "name": "ipython",
    "version": 2
   },
   "file_extension": ".py",
   "mimetype": "text/x-python",
   "name": "python",
   "nbconvert_exporter": "python",
   "pygments_lexer": "ipython2",
   "version": "2.7.13"
  },
  "widgets": {
   "state": {
    "f4496ac66c0145e9a7d49ff86d87b389": {
     "views": [
      {
       "cell_index": 11
      }
     ]
    }
   },
   "version": "1.2.0"
  }
 },
 "nbformat": 4,
 "nbformat_minor": 1
}
