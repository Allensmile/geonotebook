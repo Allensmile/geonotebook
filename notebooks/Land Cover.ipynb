{
 "cells": [
  {
   "cell_type": "code",
   "execution_count": null,
   "metadata": {
    "collapsed": false
   },
   "outputs": [],
   "source": [
    "%matplotlib inline"
   ]
  },
  {
   "cell_type": "code",
   "execution_count": null,
   "metadata": {
    "collapsed": false,
    "scrolled": true
   },
   "outputs": [],
   "source": [
    "from matplotlib.pylab import plt\n",
    "import numpy as np\n",
    "import pandas as pd\n",
    "\n",
    "legend = pd.DataFrame([\n",
    "    (11, \"Open Water\", \"#476BA0\"),\n",
    "    (12, \"Perennial Ice/Snow\", \"#D1DDF9\"),\n",
    "    (21, \"Developed, Open Space\",\"#DDC9C9\"),\n",
    "    (22, \"Developed, Low Intensity\", \"#D89382\"),\n",
    "    (23, \"Developed, Medium Intensity\", \"#ED0000\"),\n",
    "    (24, \"Developed High Intensity\", \"#AA0000\"),\n",
    "    (31, \"Barren Land (Rock/Sand/Clay)\", \"#B2ADA3\"),\n",
    "    (41, \"Deciduous Forest\", \"#68AA63\"),\n",
    "    (42, \"Evergreen Forest\", \"#1C6330\"),\n",
    "    (43, \"Mixed Forest\", \"#B5C98E\"),\n",
    "    (51, \"Dwarf Scrub\", \"#A58C30\"),\n",
    "    (52, \"Shrub/Scrub\", \"#CCBA7C\"),\n",
    "    (71, \"Grassland/Herbaceous\", \"#E2E2C1\"),\n",
    "    (72, \"Sedge/Herbaceous\", \"#C9C977\"),\n",
    "    (73, \"Lichens\", \"#99C147\"),\n",
    "    (74, \"Moss\", \"#77AD93\"),\n",
    "    (81, \"Pasture/Hay\", \"#DBD83D\"),\n",
    "    (82, \"Cultivated Crops\", \"#AA7028\"),\n",
    "    (90, \"Woody Wetlands\", \"#BAD8EA\"),\n",
    "    (95, \"Emergent Herbaceous Wetlands\",\"#70A3BA\")],\n",
    "    columns=[\"Code\", \"Desc\", \"Color\"])\n",
    "\n",
    "# legend"
   ]
  },
  {
   "cell_type": "code",
   "execution_count": null,
   "metadata": {
    "collapsed": true
   },
   "outputs": [],
   "source": [
    "from geonotebook.wrappers import RasterData\n",
    "rd = RasterData(\"/data/doruk/nlcd_2011_landcover_2011_edition_2014_10_10.tif\")"
   ]
  },
  {
   "cell_type": "code",
   "execution_count": null,
   "metadata": {
    "collapsed": false
   },
   "outputs": [],
   "source": [
    "colormap = legend[[\"Code\", \"Color\"]].rename(columns={\n",
    "    \"Code\": \"quantity\", \"Color\": \"color\"}).to_dict(\"records\")\n",
    "\n",
    "M.add_layer(rd[1], colormap=colormap, opacity=0.5)"
   ]
  },
  {
   "cell_type": "code",
   "execution_count": null,
   "metadata": {
    "collapsed": false
   },
   "outputs": [],
   "source": [
    "M.remove_layer('nlcd_2011_landcover_2011_edition_2014_10_10')"
   ]
  },
  {
   "cell_type": "code",
   "execution_count": null,
   "metadata": {
    "collapsed": false
   },
   "outputs": [],
   "source": [
    "l, d = M.layers.annotation.rectangles[0].data.next()"
   ]
  },
  {
   "cell_type": "code",
   "execution_count": null,
   "metadata": {
    "collapsed": false
   },
   "outputs": [],
   "source": [
    "d.shape"
   ]
  },
  {
   "cell_type": "code",
   "execution_count": null,
   "metadata": {
    "collapsed": false
   },
   "outputs": [],
   "source": [
    "d"
   ]
  },
  {
   "cell_type": "code",
   "execution_count": null,
   "metadata": {
    "collapsed": false
   },
   "outputs": [],
   "source": []
  },
  {
   "cell_type": "code",
   "execution_count": null,
   "metadata": {
    "collapsed": false
   },
   "outputs": [],
   "source": [
    "import numpy as np\n",
    "\n",
    "np.zeros(200)"
   ]
  },
  {
   "cell_type": "code",
   "execution_count": null,
   "metadata": {
    "collapsed": false
   },
   "outputs": [],
   "source": [
    "len(df)"
   ]
  },
  {
   "cell_type": "code",
   "execution_count": null,
   "metadata": {
    "collapsed": false
   },
   "outputs": [],
   "source": [
    "df.groupby(\"Cover Label\").count().plot(kind=\"bar\", figsize=(8., 8.))"
   ]
  },
  {
   "cell_type": "code",
   "execution_count": null,
   "metadata": {
    "collapsed": true
   },
   "outputs": [],
   "source": [
    "rd2 = RasterData('data/L57.Globe.month09.2010.hh09vv04.h6v1.doy247to273.NBAR.v3.0.tiff')"
   ]
  },
  {
   "cell_type": "code",
   "execution_count": null,
   "metadata": {
    "collapsed": false
   },
   "outputs": [],
   "source": [
    "M.add_layer(rd2[4])"
   ]
  },
  {
   "cell_type": "code",
   "execution_count": null,
   "metadata": {
    "collapsed": false
   },
   "outputs": [],
   "source": [
    "dict(list(M.layers.annotation.points[0].data))"
   ]
  },
  {
   "cell_type": "code",
   "execution_count": null,
   "metadata": {
    "collapsed": false
   },
   "outputs": [],
   "source": [
    "M.layers['nlcd_2011_landcover_2011_edition_2014_10_10'].points[0]"
   ]
  }
 ],
 "metadata": {
  "kernelspec": {
   "display_name": "Geonotebook (Python 2)",
   "language": "python",
   "name": "geonotebook2"
  },
  "language_info": {
   "codemirror_mode": {
    "name": "ipython",
    "version": 2
   },
   "file_extension": ".py",
   "mimetype": "text/x-python",
   "name": "python",
   "nbconvert_exporter": "python",
   "pygments_lexer": "ipython2",
   "version": "2.7.12"
  }
 },
 "nbformat": 4,
 "nbformat_minor": 2
}
