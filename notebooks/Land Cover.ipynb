{
 "cells": [
  {
   "cell_type": "code",
   "execution_count": null,
   "metadata": {
    "collapsed": false
   },
   "outputs": [],
   "source": [
    "%matplotlib inline"
   ]
  },
  {
   "cell_type": "code",
   "execution_count": null,
   "metadata": {
    "collapsed": true
   },
   "outputs": [],
   "source": [
    "from geonotebook.wrappers import RasterData\n",
    "rd = RasterData(\"/data/doruk/nlcd_2011_landcover_2011_edition_2014_10_10.tif\")"
   ]
  },
  {
   "cell_type": "code",
   "execution_count": null,
   "metadata": {
    "collapsed": false
   },
   "outputs": [],
   "source": [
    "M.add_layer(rd)"
   ]
  },
  {
   "cell_type": "code",
   "execution_count": null,
   "metadata": {
    "collapsed": false
   },
   "outputs": [],
   "source": [
    "l, d = M.layers.annotation.rectangles[0].data.next()"
   ]
  },
  {
   "cell_type": "code",
   "execution_count": null,
   "metadata": {
    "collapsed": false
   },
   "outputs": [],
   "source": [
    "d.shape"
   ]
  },
  {
   "cell_type": "code",
   "execution_count": null,
   "metadata": {
    "collapsed": false
   },
   "outputs": [],
   "source": [
    "d"
   ]
  },
  {
   "cell_type": "code",
   "execution_count": null,
   "metadata": {
    "collapsed": false
   },
   "outputs": [],
   "source": [
    "import numpy as np\n",
    "import pandas as pd"
   ]
  },
  {
   "cell_type": "code",
   "execution_count": null,
   "metadata": {
    "collapsed": false
   },
   "outputs": [],
   "source": [
    "from matplotlib.pylab import plt\n",
    "\n",
    "\n",
    "color_codes = {\n",
    "    11: \"Open Water\",\n",
    "    12: \"Perennial Ice/Snow\",\n",
    "    21: \"Developed, Open Space\",\n",
    "    22: \"Developed, Low Intensity\",\n",
    "    23: \"Developed, Medium Intensity\",\n",
    "    24: \"Developed High Intensity\",\n",
    "    31: \"Barren Land (Rock/Sand/Clay)\",\n",
    "    41: \"Deciduous Forest\",\n",
    "    42: \"Evergreen Forest\",\n",
    "    43: \"Mixed Forest\",\n",
    "    51: \"Dwarf Scrub\",\n",
    "    52: \"Shrub/Scrub\",\n",
    "    71: \"Grassland/Herbaceous\",\n",
    "    72: \"Sedge/Herbaceous\",\n",
    "    73: \"Lichens\",\n",
    "    74: \"Moss\",\n",
    "    81: \"Pasture/Hay\",\n",
    "    82: \"Cultivated Crops\",\n",
    "    90: \"Woody Wetlands\",\n",
    "    95: \"Emergent Herbaceous Wetlands\" }\n",
    "\n",
    "\n",
    "df = pd.DataFrame({\"Cover Code\": d.data.flatten()})\n",
    "df[\"Cover Label\"] = df[\"Cover Code\"]\n",
    "df.replace({\"Cover Label\": color_codes}, inplace=True)"
   ]
  },
  {
   "cell_type": "code",
   "execution_count": null,
   "metadata": {
    "collapsed": false
   },
   "outputs": [],
   "source": [
    "import numpy as np\n",
    "\n",
    "np.zeros(200)"
   ]
  },
  {
   "cell_type": "code",
   "execution_count": null,
   "metadata": {
    "collapsed": false
   },
   "outputs": [],
   "source": [
    "len(df)"
   ]
  },
  {
   "cell_type": "code",
   "execution_count": null,
   "metadata": {
    "collapsed": false
   },
   "outputs": [],
   "source": [
    "df.groupby(\"Cover Label\").count().plot(kind=\"bar\", figsize=(8., 8.))"
   ]
  },
  {
   "cell_type": "code",
   "execution_count": null,
   "metadata": {
    "collapsed": true
   },
   "outputs": [],
   "source": [
    "rd2 = RasterData('data/L57.Globe.month09.2010.hh09vv04.h6v1.doy247to273.NBAR.v3.0.tiff')"
   ]
  },
  {
   "cell_type": "code",
   "execution_count": null,
   "metadata": {
    "collapsed": false
   },
   "outputs": [],
   "source": [
    "M.add_layer(rd2[4])"
   ]
  },
  {
   "cell_type": "code",
   "execution_count": null,
   "metadata": {
    "collapsed": false
   },
   "outputs": [],
   "source": [
    "dict(list(M.layers.annotation.points[0].data))"
   ]
  },
  {
   "cell_type": "code",
   "execution_count": null,
   "metadata": {
    "collapsed": false
   },
   "outputs": [],
   "source": [
    "M.layers['nlcd_2011_landcover_2011_edition_2014_10_10'].points[0]"
   ]
  }
 ],
 "metadata": {
  "kernelspec": {
   "display_name": "Geonotebook (Python 2)",
   "language": "python",
   "name": "geonotebook2"
  },
  "language_info": {
   "codemirror_mode": {
    "name": "ipython",
    "version": 2
   },
   "file_extension": ".py",
   "mimetype": "text/x-python",
   "name": "python",
   "nbconvert_exporter": "python",
   "pygments_lexer": "ipython2",
   "version": "2.7.12"
  }
 },
 "nbformat": 4,
 "nbformat_minor": 2
}
