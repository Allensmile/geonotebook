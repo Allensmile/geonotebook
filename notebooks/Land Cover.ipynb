{
 "cells": [
  {
   "cell_type": "code",
   "execution_count": 1,
   "metadata": {
    "collapsed": false
   },
   "outputs": [],
   "source": [
    "%matplotlib inline"
   ]
  },
  {
   "cell_type": "code",
   "execution_count": 6,
   "metadata": {
    "collapsed": false,
    "scrolled": true
   },
   "outputs": [
    {
     "data": {
      "text/html": [
       "<div>\n",
       "<table border=\"1\" class=\"dataframe\">\n",
       "  <thead>\n",
       "    <tr style=\"text-align: right;\">\n",
       "      <th></th>\n",
       "      <th>Code</th>\n",
       "      <th>Desc</th>\n",
       "      <th>Color</th>\n",
       "    </tr>\n",
       "  </thead>\n",
       "  <tbody>\n",
       "    <tr>\n",
       "      <th>0</th>\n",
       "      <td>11</td>\n",
       "      <td>Open Water</td>\n",
       "      <td>#476BA0</td>\n",
       "    </tr>\n",
       "    <tr>\n",
       "      <th>1</th>\n",
       "      <td>12</td>\n",
       "      <td>Perennial Ice/Snow</td>\n",
       "      <td>#D1DDF9</td>\n",
       "    </tr>\n",
       "    <tr>\n",
       "      <th>2</th>\n",
       "      <td>21</td>\n",
       "      <td>Developed, Open Space</td>\n",
       "      <td>#DDC9C9</td>\n",
       "    </tr>\n",
       "    <tr>\n",
       "      <th>3</th>\n",
       "      <td>22</td>\n",
       "      <td>Developed, Low Intensity</td>\n",
       "      <td>#D89382</td>\n",
       "    </tr>\n",
       "    <tr>\n",
       "      <th>4</th>\n",
       "      <td>23</td>\n",
       "      <td>Developed, Medium Intensity</td>\n",
       "      <td>#ED0000</td>\n",
       "    </tr>\n",
       "    <tr>\n",
       "      <th>5</th>\n",
       "      <td>24</td>\n",
       "      <td>Developed High Intensity</td>\n",
       "      <td>#AA0000</td>\n",
       "    </tr>\n",
       "    <tr>\n",
       "      <th>6</th>\n",
       "      <td>31</td>\n",
       "      <td>Barren Land (Rock/Sand/Clay)</td>\n",
       "      <td>#B2ADA3</td>\n",
       "    </tr>\n",
       "    <tr>\n",
       "      <th>7</th>\n",
       "      <td>41</td>\n",
       "      <td>Deciduous Forest</td>\n",
       "      <td>#68AA63</td>\n",
       "    </tr>\n",
       "    <tr>\n",
       "      <th>8</th>\n",
       "      <td>42</td>\n",
       "      <td>Evergreen Forest</td>\n",
       "      <td>#1C6330</td>\n",
       "    </tr>\n",
       "    <tr>\n",
       "      <th>9</th>\n",
       "      <td>43</td>\n",
       "      <td>Mixed Forest</td>\n",
       "      <td>#B5C98E</td>\n",
       "    </tr>\n",
       "    <tr>\n",
       "      <th>10</th>\n",
       "      <td>51</td>\n",
       "      <td>Dwarf Scrub</td>\n",
       "      <td>#A58C30</td>\n",
       "    </tr>\n",
       "    <tr>\n",
       "      <th>11</th>\n",
       "      <td>52</td>\n",
       "      <td>Shrub/Scrub</td>\n",
       "      <td>#CCBA7C</td>\n",
       "    </tr>\n",
       "    <tr>\n",
       "      <th>12</th>\n",
       "      <td>71</td>\n",
       "      <td>Grassland/Herbaceous</td>\n",
       "      <td>#E2E2C1</td>\n",
       "    </tr>\n",
       "    <tr>\n",
       "      <th>13</th>\n",
       "      <td>72</td>\n",
       "      <td>Sedge/Herbaceous</td>\n",
       "      <td>#C9C977</td>\n",
       "    </tr>\n",
       "    <tr>\n",
       "      <th>14</th>\n",
       "      <td>73</td>\n",
       "      <td>Lichens</td>\n",
       "      <td>#99C147</td>\n",
       "    </tr>\n",
       "    <tr>\n",
       "      <th>15</th>\n",
       "      <td>74</td>\n",
       "      <td>Moss</td>\n",
       "      <td>#77AD93</td>\n",
       "    </tr>\n",
       "    <tr>\n",
       "      <th>16</th>\n",
       "      <td>81</td>\n",
       "      <td>Pasture/Hay</td>\n",
       "      <td>#DBD83D</td>\n",
       "    </tr>\n",
       "    <tr>\n",
       "      <th>17</th>\n",
       "      <td>82</td>\n",
       "      <td>Cultivated Crops</td>\n",
       "      <td>#AA7028</td>\n",
       "    </tr>\n",
       "    <tr>\n",
       "      <th>18</th>\n",
       "      <td>90</td>\n",
       "      <td>Woody Wetlands</td>\n",
       "      <td>#BAD8EA</td>\n",
       "    </tr>\n",
       "    <tr>\n",
       "      <th>19</th>\n",
       "      <td>95</td>\n",
       "      <td>Emergent Herbaceous Wetlands</td>\n",
       "      <td>#70A3BA</td>\n",
       "    </tr>\n",
       "  </tbody>\n",
       "</table>\n",
       "</div>"
      ],
      "text/plain": [
       "    Code                          Desc    Color\n",
       "0     11                    Open Water  #476BA0\n",
       "1     12            Perennial Ice/Snow  #D1DDF9\n",
       "2     21         Developed, Open Space  #DDC9C9\n",
       "3     22      Developed, Low Intensity  #D89382\n",
       "4     23   Developed, Medium Intensity  #ED0000\n",
       "5     24      Developed High Intensity  #AA0000\n",
       "6     31  Barren Land (Rock/Sand/Clay)  #B2ADA3\n",
       "7     41              Deciduous Forest  #68AA63\n",
       "8     42              Evergreen Forest  #1C6330\n",
       "9     43                  Mixed Forest  #B5C98E\n",
       "10    51                   Dwarf Scrub  #A58C30\n",
       "11    52                   Shrub/Scrub  #CCBA7C\n",
       "12    71          Grassland/Herbaceous  #E2E2C1\n",
       "13    72              Sedge/Herbaceous  #C9C977\n",
       "14    73                       Lichens  #99C147\n",
       "15    74                          Moss  #77AD93\n",
       "16    81                   Pasture/Hay  #DBD83D\n",
       "17    82              Cultivated Crops  #AA7028\n",
       "18    90                Woody Wetlands  #BAD8EA\n",
       "19    95  Emergent Herbaceous Wetlands  #70A3BA"
      ]
     },
     "execution_count": 6,
     "metadata": {},
     "output_type": "execute_result"
    }
   ],
   "source": [
    "from matplotlib.pylab import plt\n",
    "import numpy as np\n",
    "import pandas as pd\n",
    "\n",
    "legend = pd.DataFrame([\n",
    "    (11, \"Open Water\", \"#476BA0\"),\n",
    "    (12, \"Perennial Ice/Snow\", \"#D1DDF9\"),\n",
    "    (21, \"Developed, Open Space\",\"#DDC9C9\"),\n",
    "    (22, \"Developed, Low Intensity\", \"#D89382\"),\n",
    "    (23, \"Developed, Medium Intensity\", \"#ED0000\"),\n",
    "    (24, \"Developed High Intensity\", \"#AA0000\"),\n",
    "    (31, \"Barren Land (Rock/Sand/Clay)\", \"#B2ADA3\"),\n",
    "    (41, \"Deciduous Forest\", \"#68AA63\"),\n",
    "    (42, \"Evergreen Forest\", \"#1C6330\"),\n",
    "    (43, \"Mixed Forest\", \"#B5C98E\"),\n",
    "    (51, \"Dwarf Scrub\", \"#A58C30\"),\n",
    "    (52, \"Shrub/Scrub\", \"#CCBA7C\"),\n",
    "    (71, \"Grassland/Herbaceous\", \"#E2E2C1\"),\n",
    "    (72, \"Sedge/Herbaceous\", \"#C9C977\"),\n",
    "    (73, \"Lichens\", \"#99C147\"),\n",
    "    (74, \"Moss\", \"#77AD93\"),\n",
    "    (81, \"Pasture/Hay\", \"#DBD83D\"),\n",
    "    (82, \"Cultivated Crops\", \"#AA7028\"),\n",
    "    (90, \"Woody Wetlands\", \"#BAD8EA\"),\n",
    "    (95, \"Emergent Herbaceous Wetlands\",\"#70A3BA\")],\n",
    "    columns=[\"Code\", \"Desc\", \"Color\"])\n",
    "\n",
    "legend"
   ]
  },
  {
   "cell_type": "code",
   "execution_count": 3,
   "metadata": {
    "collapsed": true
   },
   "outputs": [],
   "source": [
    "from geonotebook.wrappers import RasterData\n",
    "rd = RasterData(\"/data/doruk/nlcd_2011_landcover_2011_edition_2014_10_10.tif\")"
   ]
  },
  {
   "cell_type": "code",
   "execution_count": 5,
   "metadata": {
    "collapsed": false
   },
   "outputs": [
    {
     "data": {
      "text/plain": [
       "<promise.promise.Promise at 0x7fdc0debed50>"
      ]
     },
     "execution_count": 5,
     "metadata": {},
     "output_type": "execute_result"
    }
   ],
   "source": [
    "colormap = legend[[\"Code\", \"Color\"]].rename(columns={\n",
    "    \"Code\": \"quantity\", \"Color\": \"color\"}).to_dict(\"records\")\n",
    "\n",
    "M.add_layer(rd[1], colormap=colormap, opacity=0.7)"
   ]
  },
  {
   "cell_type": "code",
   "execution_count": null,
   "metadata": {
    "collapsed": false
   },
   "outputs": [],
   "source": [
    "# M.remove_layer('nlcd_2011_landcover_2011_edition_2014_10_10')"
   ]
  },
  {
   "cell_type": "code",
   "execution_count": 8,
   "metadata": {
    "collapsed": false
   },
   "outputs": [],
   "source": [
    "l, d = M.layers.annotation.rectangles[0].data.next()"
   ]
  },
  {
   "cell_type": "code",
   "execution_count": 9,
   "metadata": {
    "collapsed": false
   },
   "outputs": [
    {
     "data": {
      "text/plain": [
       "(548, 1079)"
      ]
     },
     "execution_count": 9,
     "metadata": {},
     "output_type": "execute_result"
    }
   ],
   "source": [
    "d.shape"
   ]
  },
  {
   "cell_type": "code",
   "execution_count": 58,
   "metadata": {
    "collapsed": true
   },
   "outputs": [],
   "source": [
    "l, d = M.layers.annotation.rectangles[2].data.next()\n",
    "with open(\"/tmp/foo\", \"wb\") as fh:\n",
    "    fh.write(d)"
   ]
  },
  {
   "cell_type": "code",
   "execution_count": 44,
   "metadata": {
    "collapsed": false
   },
   "outputs": [
    {
     "data": {
      "text/html": [
       "<div>\n",
       "<table border=\"1\" class=\"dataframe\">\n",
       "  <thead>\n",
       "    <tr style=\"text-align: right;\">\n",
       "      <th></th>\n",
       "      <th>Count</th>\n",
       "      <th>Desc</th>\n",
       "      <th>Color</th>\n",
       "    </tr>\n",
       "    <tr>\n",
       "      <th>Code</th>\n",
       "      <th></th>\n",
       "      <th></th>\n",
       "      <th></th>\n",
       "    </tr>\n",
       "  </thead>\n",
       "  <tbody>\n",
       "    <tr>\n",
       "      <th>11</th>\n",
       "      <td>176499</td>\n",
       "      <td>Open Water</td>\n",
       "      <td>#476BA0</td>\n",
       "    </tr>\n",
       "    <tr>\n",
       "      <th>71</th>\n",
       "      <td>103348</td>\n",
       "      <td>Grassland/Herbaceous</td>\n",
       "      <td>#E2E2C1</td>\n",
       "    </tr>\n",
       "    <tr>\n",
       "      <th>23</th>\n",
       "      <td>82262</td>\n",
       "      <td>Developed, Medium Intensity</td>\n",
       "      <td>#ED0000</td>\n",
       "    </tr>\n",
       "    <tr>\n",
       "      <th>22</th>\n",
       "      <td>62203</td>\n",
       "      <td>Developed, Low Intensity</td>\n",
       "      <td>#D89382</td>\n",
       "    </tr>\n",
       "    <tr>\n",
       "      <th>21</th>\n",
       "      <td>55996</td>\n",
       "      <td>Developed, Open Space</td>\n",
       "      <td>#DDC9C9</td>\n",
       "    </tr>\n",
       "    <tr>\n",
       "      <th>95</th>\n",
       "      <td>50829</td>\n",
       "      <td>Emergent Herbaceous Wetlands</td>\n",
       "      <td>#70A3BA</td>\n",
       "    </tr>\n",
       "    <tr>\n",
       "      <th>43</th>\n",
       "      <td>28963</td>\n",
       "      <td>Mixed Forest</td>\n",
       "      <td>#B5C98E</td>\n",
       "    </tr>\n",
       "    <tr>\n",
       "      <th>24</th>\n",
       "      <td>23611</td>\n",
       "      <td>Developed High Intensity</td>\n",
       "      <td>#AA0000</td>\n",
       "    </tr>\n",
       "    <tr>\n",
       "      <th>52</th>\n",
       "      <td>3567</td>\n",
       "      <td>Shrub/Scrub</td>\n",
       "      <td>#CCBA7C</td>\n",
       "    </tr>\n",
       "    <tr>\n",
       "      <th>42</th>\n",
       "      <td>1863</td>\n",
       "      <td>Evergreen Forest</td>\n",
       "      <td>#1C6330</td>\n",
       "    </tr>\n",
       "    <tr>\n",
       "      <th>90</th>\n",
       "      <td>1258</td>\n",
       "      <td>Woody Wetlands</td>\n",
       "      <td>#BAD8EA</td>\n",
       "    </tr>\n",
       "    <tr>\n",
       "      <th>31</th>\n",
       "      <td>591</td>\n",
       "      <td>Barren Land (Rock/Sand/Clay)</td>\n",
       "      <td>#B2ADA3</td>\n",
       "    </tr>\n",
       "    <tr>\n",
       "      <th>82</th>\n",
       "      <td>232</td>\n",
       "      <td>Cultivated Crops</td>\n",
       "      <td>#AA7028</td>\n",
       "    </tr>\n",
       "    <tr>\n",
       "      <th>41</th>\n",
       "      <td>70</td>\n",
       "      <td>Deciduous Forest</td>\n",
       "      <td>#68AA63</td>\n",
       "    </tr>\n",
       "  </tbody>\n",
       "</table>\n",
       "</div>"
      ],
      "text/plain": [
       "       Count                          Desc    Color\n",
       "Code                                               \n",
       "11    176499                    Open Water  #476BA0\n",
       "71    103348          Grassland/Herbaceous  #E2E2C1\n",
       "23     82262   Developed, Medium Intensity  #ED0000\n",
       "22     62203      Developed, Low Intensity  #D89382\n",
       "21     55996         Developed, Open Space  #DDC9C9\n",
       "95     50829  Emergent Herbaceous Wetlands  #70A3BA\n",
       "43     28963                  Mixed Forest  #B5C98E\n",
       "24     23611      Developed High Intensity  #AA0000\n",
       "52      3567                   Shrub/Scrub  #CCBA7C\n",
       "42      1863              Evergreen Forest  #1C6330\n",
       "90      1258                Woody Wetlands  #BAD8EA\n",
       "31       591  Barren Land (Rock/Sand/Clay)  #B2ADA3\n",
       "82       232              Cultivated Crops  #AA7028\n",
       "41        70              Deciduous Forest  #68AA63"
      ]
     },
     "execution_count": 44,
     "metadata": {},
     "output_type": "execute_result"
    }
   ],
   "source": [
    "df = pd.DataFrame({\"Code\": d.data.ravel()})\n",
    "df[\"Count\"] = 1\n",
    "df = df.groupby(\"Code\").sum().join(legend.set_index(\"Code\"))\\\n",
    "    .sort_values(\"Count\", ascending=False)\n",
    "df"
   ]
  },
  {
   "cell_type": "code",
   "execution_count": 55,
   "metadata": {
    "collapsed": false
   },
   "outputs": [
    {
     "data": {
      "image/png": "[encoded data removed]",
      "text/plain": [
       "<matplotlib.figure.Figure at 0x7fdbfaca8d90>"
      ]
     },
     "metadata": {},
     "output_type": "display_data"
    }
   ],
   "source": [
    "from matplotlib.colors import LinearSegmentedColormap\n",
    "\n",
    "cmap = LinearSegmentedColormap('nlcd', list(df['Color']), len(df))\n",
    "\n",
    "ax = df.plot(kind='bar', legend=False, color=list(df['Color']))\n",
    "\n"
   ]
  },
  {
   "cell_type": "code",
   "execution_count": 49,
   "metadata": {
    "collapsed": false
   },
   "outputs": [],
   "source": []
  },
  {
   "cell_type": "code",
   "execution_count": null,
   "metadata": {
    "collapsed": true
   },
   "outputs": [],
   "source": [
    "rd2 = RasterData('data/L57.Globe.month09.2010.hh09vv04.h6v1.doy247to273.NBAR.v3.0.tiff')"
   ]
  },
  {
   "cell_type": "code",
   "execution_count": null,
   "metadata": {
    "collapsed": false
   },
   "outputs": [],
   "source": [
    "M.add_layer(rd2[4])"
   ]
  },
  {
   "cell_type": "code",
   "execution_count": null,
   "metadata": {
    "collapsed": false
   },
   "outputs": [],
   "source": [
    "dict(list(M.layers.annotation.points[0].data))"
   ]
  },
  {
   "cell_type": "code",
   "execution_count": null,
   "metadata": {
    "collapsed": false
   },
   "outputs": [],
   "source": [
    "M.layers['nlcd_2011_landcover_2011_edition_2014_10_10'].points[0]"
   ]
  }
 ],
 "metadata": {
  "kernelspec": {
   "display_name": "Geonotebook (Python 2)",
   "language": "python",
   "name": "geonotebook2"
  },
  "language_info": {
   "codemirror_mode": {
    "name": "ipython",
    "version": 2
   },
   "file_extension": ".py",
   "mimetype": "text/x-python",
   "name": "python",
   "nbconvert_exporter": "python",
   "pygments_lexer": "ipython2",
   "version": "2.7.12"
  }
 },
 "nbformat": 4,
 "nbformat_minor": 2
}
