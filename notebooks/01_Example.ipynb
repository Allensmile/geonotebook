{
 "cells": [
  {
   "cell_type": "markdown",
   "metadata": {},
   "source": [
    "# Welcome to the Geonotebook\n",
    "GeoNotebook is an application that provides client/server enviroment with inteactive visualization and analysis capabilities using Jupyter notebook, GeoJS and other open source tools.\n",
    "\n",
    "The example notesbooks in this directory will walk you through several of the features that the ```geonotebook``` plugin to Jupyter makes available. The first thing to know about is...\n",
    "\n",
    "### The geonotebook object\n",
    "\n",
    "The ```M``` object is inserted into the kernel automatically once the notebook is started.  This object lives inside the Python kernel's namespace and communicates information to (and receives information from) the GeoJS map. Note that nothing has been imported,  but the ```M``` variable is still available.\n",
    "\n",
    "**Note:** If you are viewing a static version of this notebook you will NOT see the GeoJS map that is dynamically added to a running notebook.  Please see this [Screen shot](https://raw.githubusercontent.com/OpenGeoscience/geonotebook/master/screenshots/geonotebook.png) to get a sense of the running interface."
   ]
  },
  {
   "cell_type": "code",
   "execution_count": null,
   "metadata": {
    "collapsed": false
   },
   "outputs": [],
   "source": [
    "M"
   ]
  },
  {
   "cell_type": "markdown",
   "metadata": {},
   "source": [
    "### Set the map's center\n",
    "\n",
    "The M object exposes a number of different functions for interacting with the map (which should be located to the right of standard jupyter python cells).\n",
    "\n",
    "Executing the following cell should set the center of the map to New York State. \n"
   ]
  },
  {
   "cell_type": "code",
   "execution_count": null,
   "metadata": {
    "collapsed": false
   },
   "outputs": [],
   "source": [
    "# set_center's arguments are latitude,  longitude,  and zoom level\n",
    "M.set_center(-74, 43, 6)"
   ]
  },
  {
   "cell_type": "markdown",
   "metadata": {},
   "source": [
    "## What just happened?\n",
    "\n",
    "It is importaint to understand that ```M.set_center(...)``` is a Python statement being made inside the Python kernel. It is using a remote proceedure call to change the javascript map's location.\n",
    "\n",
    "The standard Jupyter notebook has three components, (1) the client that makes up the notebook cells, (2) a web server that lists notebook files,  directories and serves notebook assets like HTML and CSS (3) a kernel that executes commands in the chosen language (in our case Python).\n",
    "\n",
    "![geonotebook simple](https://docs.google.com/drawings/d/1WwUg_nUWkPTsTYTE9Bnjnzu-sIoZh4_PxM4jW7hONiU/pub?w=1440&h=1080)\n",
    "\n",
    "When you executed the previous cell the string \"M.set_center(-74, 43, 6)\" was trasmitted over a web socket to the webserver,  then proxied through ZeroMQ to the IPykernel where it was evaluated as a Python expression. This is the standard way in which Jupyter notebook takes code from a web browser,  and executes it in an interactive shell (kernel). M is an object in the kernel,  and it has a function *set_center*.  That function executed and returned a [promise](https://pypi.python.org/pypi/promise),  which is why you see something in the cell output like ```<promise.promise.Promise at 0x7f567dd8f290>```\n",
    "\n",
    "While the ```set_center``` function returns a promise,  it also has a side effect. This side effect uses a custom jupyter communication channel (or 'Comm') to tell the map to change its view port so the center is at (in this case) -74.0 latitude,  43.0 longitude,  with a zoom level of 6. \n",
    "\n",
    "**The importaint take away here is this:** \n",
    "\n",
    "    We executed a Python statement which changed the state of the GeoJS Map. \n",
    "\n",
    "As we work through these examples we'll see lots of examples of how the Python kernel can inteact with the map and vice-versa.\n",
    "\n"
   ]
  },
  {
   "cell_type": "markdown",
   "metadata": {},
   "source": [
    "## Widget example\n",
    "\n",
    "One question you may immediately ask yourself is,  why not have the notebook cell talk to the map directly?  Why get python involved at all? Well, because ```M.set_center``` is just a Python function,  it can do things like leverage the existing widget extension to the notebook.  \n",
    "\n",
    "First you must ensure that ```ipywidgets``` extension is [installed](http://ipywidgets.readthedocs.io/en/latest/user_install.html). **If you are running from a virtual environment** the following commands should suffice:"
   ]
  },
  {
   "cell_type": "code",
   "execution_count": null,
   "metadata": {
    "collapsed": false,
    "scrolled": true
   },
   "outputs": [],
   "source": [
    "!pip install ipywidgets\n",
    "!jupyter nbextension enable --py widgetsnbextension --sys-prefix"
   ]
  },
  {
   "cell_type": "markdown",
   "metadata": {},
   "source": [
    "If you are **not running in a virtual environment** (e.g. you are running with your globally installed python),  you will need to install the ipywidgets plugin with your system's package manager.  For more instructions check out the [ipywidgets user guide](http://ipywidgets.readthedocs.io/en/latest/)"
   ]
  },
  {
   "cell_type": "code",
   "execution_count": null,
   "metadata": {
    "collapsed": false
   },
   "outputs": [],
   "source": [
    "from ipywidgets import interact\n",
    "import ipywidgets as widgets\n",
    "\n",
    "def map_widgets(lat=0.0, lon=0.0, zoom=4):\n",
    "  M.set_center(lat, lon, zoom)\n",
    "  \n",
    "interact(map_widgets, lat=(-180.0, 180.0), lon=(-90.0, 90.0), zoom=(1, 9))"
   ]
  },
  {
   "cell_type": "markdown",
   "metadata": {},
   "source": [
    "# Annotations\n",
    "\n",
    "In addition to supporting Python to Map communications,  Geonotebook allows objects and events on the map to be communicated back to the Python. One of the primary ways in which this is used is through geonotebook annotations. \n",
    "\n",
    "On the toolbar,  next to the \"CellToolbar\" button,  there should be three additional buttons with a circle,  and square and a polygon. Hovering over each of these reveals that they can be used to start a point, rectangle and polygon annotations. \n",
    "\n",
    "### Point annotations\n",
    "Try clicking on the circle icon. Notice that the cursor,  when it hovers over the map,  is now a cross rather than an arrow. Click on the map and a circle annotation should appear. \n",
    "\n",
    "### Rectangle Annotations\n",
    "Try clicking on the square icon. If you click on the map and hold down the left mouse button, then drag the mouse and release the left mouse button you should be able to create a rectangular annotation. \n",
    "\n",
    "### Polygon annotations\n",
    "Try clicking on the polygon icon.  Single click on a series of points to begin creating a polygon annotation. Double click on a point and the final segment will be added completing the annotation.\n",
    "\n",
    "\n",
    "Annotations are made available on a special layer under ```M.layers```"
   ]
  },
  {
   "cell_type": "code",
   "execution_count": 1,
   "metadata": {
    "collapsed": false
   },
   "outputs": [
    {
     "data": {
      "text/plain": [
       "<AnnotationLayer('annotation')>"
      ]
     },
     "execution_count": 1,
     "metadata": {},
     "output_type": "execute_result"
    }
   ],
   "source": [
    "M.layers.annotation"
   ]
  },
  {
   "cell_type": "markdown",
   "metadata": {},
   "source": [
    "Each of the types of annotations are available under 'points', 'rectangles', and 'polygons' attributes on the AnnotationLayer object\n",
    "\n",
    "**Note** *Please make sure you have at least one of each annotation on the map*"
   ]
  },
  {
   "cell_type": "code",
   "execution_count": 2,
   "metadata": {
    "collapsed": false
   },
   "outputs": [
    {
     "data": {
      "text/plain": [
       "[<geonotebook.annotations.Point at 0x7f3f08331a50>]"
      ]
     },
     "execution_count": 2,
     "metadata": {},
     "output_type": "execute_result"
    }
   ],
   "source": [
    "M.layers.annotation.points"
   ]
  },
  {
   "cell_type": "code",
   "execution_count": 3,
   "metadata": {
    "collapsed": false
   },
   "outputs": [
    {
     "data": {
      "text/plain": [
       "[<geonotebook.annotations.Rectangle at 0x7f3f08331990>]"
      ]
     },
     "execution_count": 3,
     "metadata": {},
     "output_type": "execute_result"
    }
   ],
   "source": [
    "M.layers.annotation.rectangles"
   ]
  },
  {
   "cell_type": "code",
   "execution_count": 4,
   "metadata": {
    "collapsed": false
   },
   "outputs": [
    {
     "data": {
      "text/plain": [
       "[<geonotebook.annotations.Polygon at 0x7f3f08331050>]"
      ]
     },
     "execution_count": 4,
     "metadata": {},
     "output_type": "execute_result"
    }
   ],
   "source": [
    "M.layers.annotation.polygons"
   ]
  },
  {
   "cell_type": "markdown",
   "metadata": {},
   "source": []
  },
  {
   "cell_type": "code",
   "execution_count": 8,
   "metadata": {
    "collapsed": false
   },
   "outputs": [
    {
     "data": {
      "image/svg+xml": [
       "<svg xmlns=\"http://www.w3.org/2000/svg\" xmlns:xlink=\"http://www.w3.org/1999/xlink\" width=\"100.0\" height=\"100.0\" viewBox=\"0.544824513278 5.91138441801 3.63399616547 6.68647329569\" preserveAspectRatio=\"xMinYMin meet\"><g transform=\"matrix(1,0,0,-1,0,18.5092421317)\"><path fill-rule=\"evenodd\" fill=\"#66cc99\" stroke=\"#555555\" stroke-width=\"0.133729465914\" opacity=\"0.6\" d=\"M 3.01371110383,6.36247947429 L 2.91862041719,8.94452718848 L 3.93117351964,10.0557188348 L 3.85510097034,11.1585971861 L 3.55081077311,11.7364285898 L 2.79008528004,12.3502105546 L 2.27659557221,12.1271797743 L 2.33364998419,11.7550484989 L 1.45810647882,11.4293675467 L 0.811489809704,10.7201415576 L 0.792471672377,10.2900571652 L 1.36301579218,9.9343263479 L 1.42007020416,9.29679766483 L 1.65821250274,8.96778904704 L 1.54410367878,6.97144175647 L 1.54410367878,6.65041547124 L 1.88643015066,6.15903157711 L 2.6281375064,6.38588286915 L 2.81831887967,6.38588286915 L 3.01371110383,6.36247947429 z\" /></g></svg>"
      ],
      "text/plain": [
       "<geonotebook.annotations.Polygon at 0x7fd9dbd05110>"
      ]
     },
     "execution_count": 8,
     "metadata": {},
     "output_type": "execute_result"
    }
   ],
   "source": [
    "p = M.layers.annotation.polygons[1]\n",
    "p"
   ]
  },
  {
   "cell_type": "code",
   "execution_count": 7,
   "metadata": {
    "collapsed": false
   },
   "outputs": [
    {
     "data": {
      "text/plain": [
       "[(34.12902832031249, 15.072123545811671),\n",
       " (31.3165283203125, 8.885071663468981),\n",
       " (35.57742049945049, 2.9009535226118883),\n",
       " (44.36648299945049, 3.9537397000967087),\n",
       " (41.55398299945048, 9.017083187429188),\n",
       " (36.63210799945048, 8.408951916476422),\n",
       " (34.12902832031249, 15.072123545811671)]"
      ]
     },
     "execution_count": 7,
     "metadata": {},
     "output_type": "execute_result"
    }
   ],
   "source": [
    "# List the exterior coordinates of the annotation\n",
    "# Expressed in latitude and longitude point pairs\n",
    "list(p.exterior.coords)"
   ]
  },
  {
   "cell_type": "markdown",
   "metadata": {},
   "source": [
    "Other properties like 'centroid' and 'area' are also available,  keeping in mind that all coordinates are measured in latitude/longitude. This means properties like 'area' will not have much meaning.  You can look at Shapely's [transform](http://toblerity.org/shapely/manual.html#shapely.ops.transform) method for information on how to translate these into to something more useful"
   ]
  },
  {
   "cell_type": "code",
   "execution_count": 8,
   "metadata": {
    "collapsed": false
   },
   "outputs": [
    {
     "data": {
      "text/plain": [
       "[(37.10498989139982, 7.250931205961921)]"
      ]
     },
     "execution_count": 8,
     "metadata": {},
     "output_type": "execute_result"
    }
   ],
   "source": [
    "list(p.centroid.coords)"
   ]
  },
  {
   "cell_type": "code",
   "execution_count": 12,
   "metadata": {
    "collapsed": false
   },
   "outputs": [
    {
     "data": {
      "text/plain": [
       "130936200300.65767"
      ]
     },
     "execution_count": 12,
     "metadata": {},
     "output_type": "execute_result"
    }
   ],
   "source": [
    "import pyproj\n",
    "import shapely.ops as ops\n",
    "from functools import partial\n",
    "\n",
    "project = partial(pyproj.transform,\n",
    "                  pyproj.Proj(init='EPSG:4326'), \n",
    "                  pyproj.Proj(proj='aea',\n",
    "                    lat1=p.bounds[1],\n",
    "                    lat2=p.bounds[3]))\n",
    "\n",
    "ops.transform(project, p).area"
   ]
  }
 ],
 "metadata": {
  "kernelspec": {
   "display_name": "Geonotebook (Python 2)",
   "language": "python",
   "name": "geonotebook2"
  },
  "language_info": {
   "codemirror_mode": {
    "name": "ipython",
    "version": 2
   },
   "file_extension": ".py",
   "mimetype": "text/x-python",
   "name": "python",
   "nbconvert_exporter": "python",
   "pygments_lexer": "ipython2",
   "version": "2.7.12"
  },
  "widgets": {
   "state": {},
   "version": "1.1.2"
  }
 },
 "nbformat": 4,
 "nbformat_minor": 1
}
