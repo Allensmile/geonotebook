{
 "cells": [
  {
   "cell_type": "code",
   "execution_count": null,
   "metadata": {
    "collapsed": true
   },
   "outputs": [],
   "source": [
    "%matplotlib inline\n",
    "from matplotlib import pylab as plt"
   ]
  },
  {
   "cell_type": "markdown",
   "metadata": {},
   "source": [
    "### Make sure you have the geoserver VM running\n",
    "\n",
    "this should show something like:\n",
    "\n",
    "```\n",
    "Current machine states:\n",
    "\n",
    "geoserver                 running (virtualbox)\n",
    "\n",
    "The VM is running. To stop this VM, you can run `vagrant halt` to\n",
    "shut it down forcefully, or you can run `vagrant suspend` to simply\n",
    "suspend the virtual machine. In either case, to restart it again,\n",
    "simply run `vagrant up`.\n",
    "```\n",
    "\n",
    "You can do this by going to the geoserver/ directory and running ```vagrant up```"
   ]
  },
  {
   "cell_type": "code",
   "execution_count": null,
   "metadata": {
    "collapsed": false
   },
   "outputs": [],
   "source": [
    "!cd ../geoserver && vagrant status"
   ]
  },
  {
   "cell_type": "markdown",
   "metadata": {},
   "source": [
    "### Display geoserver status\n",
    "\n",
    "This should ensure the client can successfully connect to your VM,  if you do not see the Geoserver 'Status' page then something is wrong!"
   ]
  },
  {
   "cell_type": "code",
   "execution_count": null,
   "metadata": {
    "collapsed": true
   },
   "outputs": [],
   "source": [
    "from IPython.core.display import display, HTML\n",
    "from geonotebook.config import Config\n",
    "geoserver = Config().vis_server\n",
    "display(HTML(geoserver.c.get(\"/about/status\").text))"
   ]
  },
  {
   "cell_type": "markdown",
   "metadata": {},
   "source": [
    "### Get the rgb.tif file from data.kitware.com"
   ]
  },
  {
   "cell_type": "code",
   "execution_count": null,
   "metadata": {
    "collapsed": false
   },
   "outputs": [],
   "source": [
    "!wget -O /tmp/rgb.tif https://data.kitware.com/api/v1/file/57bf01ff8d777f10f269cff4/download"
   ]
  },
  {
   "cell_type": "markdown",
   "metadata": {},
   "source": [
    "### Add the layer to the map"
   ]
  },
  {
   "cell_type": "code",
   "execution_count": null,
   "metadata": {
    "collapsed": false
   },
   "outputs": [],
   "source": [
    "## Proposed API moving forward ##\n",
    "\n",
    "# gt = GeoTiff(\"/tmp/rgb.tif\")\n",
    "# gt.describe()\n",
    "\n",
    "# M.add_layer(gt.bands([0, 1, 2],  range=[(0, 1), (0, 1), (0, 1)], opacity=0.5))\n",
    "\n",
    "M.add_layer(\"/tmp/rgb.tif\")"
   ]
  },
  {
   "cell_type": "code",
   "execution_count": null,
   "metadata": {
    "collapsed": false
   },
   "outputs": [],
   "source": [
    "M.layers['rgb'].region"
   ]
  },
  {
   "cell_type": "code",
   "execution_count": null,
   "metadata": {
    "collapsed": false
   },
   "outputs": [],
   "source": [
    "import numpy as np\n",
    "\n",
    "fig, ax = plt.subplots(figsize=(12, 12))\n",
    "\n",
    "# Display BRG\n",
    "# n = M.layers['rgb'].region\n",
    "\n",
    "# Flip the second axis to get RGB\n",
    "n = np.apply_along_axis(np.flipud, 2, M.layers['rgb'].region)\n",
    "ax.imshow(n, interpolation='none')"
   ]
  },
  {
   "cell_type": "code",
   "execution_count": null,
   "metadata": {
    "collapsed": false
   },
   "outputs": [],
   "source": [
    "from scipy import ndimage\n",
    "fig, ax = plt.subplots(figsize=(12, 12))\n",
    "\n",
    "k = np.array([[[1, 1, 1], [1, 1, 1], [1, 1, 1]],\n",
    "              [[1, 1, 1], [1, 1, 1], [0, 0, 0]],\n",
    "              [[1, 1, 1], [0, 0, 0], [0, 0, 0]]])\n",
    "\n",
    "ax.imshow(ndimage.convolve(n, k, mode='constant', cval=0.0), interpolation='none')"
   ]
  },
  {
   "cell_type": "code",
   "execution_count": null,
   "metadata": {
    "collapsed": false
   },
   "outputs": [],
   "source": [
    "M.remove_layer('rgb')"
   ]
  },
  {
   "cell_type": "code",
   "execution_count": null,
   "metadata": {
    "collapsed": false
   },
   "outputs": [],
   "source": [
    "M.layers"
   ]
  }
 ],
 "metadata": {
  "kernelspec": {
   "display_name": "Geonotebook (Python 2)",
   "language": "python",
   "name": "geonotebook2"
  },
  "language_info": {
   "codemirror_mode": {
    "name": "ipython",
    "version": 2
   },
   "file_extension": ".py",
   "mimetype": "text/x-python",
   "name": "python",
   "nbconvert_exporter": "python",
   "pygments_lexer": "ipython2",
   "version": "2.7.12"
  },
  "widgets": {
   "state": {},
   "version": "1.1.2"
  }
 },
 "nbformat": 4,
 "nbformat_minor": 1
}
