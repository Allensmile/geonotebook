{
 "cells": [
  {
   "cell_type": "code",
   "execution_count": 6,
   "metadata": {
    "collapsed": true
   },
   "outputs": [],
   "source": [
    "%matplotlib inline\n",
    "from matplotlib import pylab as plt"
   ]
  },
  {
   "cell_type": "markdown",
   "metadata": {},
   "source": [
    "### Make sure you have the geoserver VM running\n",
    "\n",
    "this should show something like:\n",
    "\n",
    "```\n",
    "Current machine states:\n",
    "\n",
    "geoserver                 running (virtualbox)\n",
    "\n",
    "The VM is running. To stop this VM, you can run `vagrant halt` to\n",
    "shut it down forcefully, or you can run `vagrant suspend` to simply\n",
    "suspend the virtual machine. In either case, to restart it again,\n",
    "simply run `vagrant up`.\n",
    "```\n",
    "\n",
    "You can do this by going to the geoserver/ directory and running ```vagrant up```"
   ]
  },
  {
   "cell_type": "code",
   "execution_count": null,
   "metadata": {
    "collapsed": false
   },
   "outputs": [],
   "source": [
    "!cd ../geoserver && vagrant status"
   ]
  },
  {
   "cell_type": "markdown",
   "metadata": {},
   "source": [
    "### Display geoserver status\n",
    "\n",
    "This should ensure the client can successfully connect to your VM,  if you do not see the Geoserver 'Status' page then something is wrong!"
   ]
  },
  {
   "cell_type": "code",
   "execution_count": null,
   "metadata": {
    "collapsed": true
   },
   "outputs": [],
   "source": [
    "from IPython.core.display import display, HTML\n",
    "from geonotebook.config import Config\n",
    "geoserver = Config().vis_server\n",
    "display(HTML(geoserver.c.get(\"/about/status\").text))"
   ]
  },
  {
   "cell_type": "markdown",
   "metadata": {},
   "source": [
    "### Get the rgb.tif file from data.kitware.com"
   ]
  },
  {
   "cell_type": "code",
   "execution_count": null,
   "metadata": {
    "collapsed": false
   },
   "outputs": [],
   "source": [
    "!wget -O /tmp/rgb.tif https://data.kitware.com/api/v1/file/57bf01ff8d777f10f269cff4/download"
   ]
  },
  {
   "cell_type": "markdown",
   "metadata": {},
   "source": [
    "### Add the layer to the map"
   ]
  },
  {
   "cell_type": "code",
   "execution_count": 1,
   "metadata": {
    "collapsed": true
   },
   "outputs": [],
   "source": [
    "## Proposed API moving forward ##\n",
    "from geonotebook.wrappers import GeoTiffImage\n",
    "gt = GeoTiffImage(\"/tmp/rgb.tif\")"
   ]
  },
  {
   "cell_type": "code",
   "execution_count": 2,
   "metadata": {
    "collapsed": false
   },
   "outputs": [
    {
     "data": {
      "text/plain": [
       "<geonotebook.wrappers.image.GeoTiffImage at 0x7ffa443a2ad0>"
      ]
     },
     "execution_count": 2,
     "metadata": {},
     "output_type": "execute_result"
    }
   ],
   "source": [
    "gt"
   ]
  },
  {
   "cell_type": "code",
   "execution_count": 3,
   "metadata": {
    "collapsed": false
   },
   "outputs": [
    {
     "data": {
      "text/plain": [
       "<geonotebook.kernel.ReplyCallback at 0x7ffa580f47d0>"
      ]
     },
     "execution_count": 3,
     "metadata": {},
     "output_type": "execute_result"
    }
   ],
   "source": [
    "# gt.describe()\n",
    "\n",
    "# M.add_layer(gt.bands([0, 1, 2],  range=[(0, 1), (0, 1), (0, 1)], opacity=0.5))\n",
    "\n",
    "M.add_layer(gt)"
   ]
  },
  {
   "cell_type": "code",
   "execution_count": 4,
   "metadata": {
    "collapsed": false,
    "scrolled": true
   },
   "outputs": [
    {
     "data": {
      "text/plain": [
       "array([[[ 0.0232,  0.0422,  0.0244],\n",
       "        [ 0.0253,  0.0443,  0.0268],\n",
       "        [ 0.0176,  0.0383,  0.0274],\n",
       "        ..., \n",
       "        [ 0.013 ,  0.0344,  0.0169],\n",
       "        [ 0.0168,  0.0343,  0.0249],\n",
       "        [ 0.0165,  0.0344,  0.0203]],\n",
       "\n",
       "       [[ 0.0266,  0.0364,  0.0252],\n",
       "        [ 0.0157,  0.0308,  0.0213],\n",
       "        [ 0.0195,  0.0346,  0.0244],\n",
       "        ..., \n",
       "        [ 0.0116,  0.0223,  0.0177],\n",
       "        [ 0.0078,  0.0223,  0.0177],\n",
       "        [ 0.0097,  0.0223,  0.0177]],\n",
       "\n",
       "       [[ 0.0195,  0.0346,  0.0213],\n",
       "        [ 0.0157,  0.0383,  0.0244],\n",
       "        [ 0.0195,  0.0383,  0.0244],\n",
       "        ..., \n",
       "        [ 0.0097,  0.0298,  0.0238],\n",
       "        [ 0.0144,  0.0264,  0.015 ],\n",
       "        [ 0.0109,  0.0265,  0.0167]],\n",
       "\n",
       "       ..., \n",
       "       [[ 0.0146,  0.0311,  0.0222],\n",
       "        [ 0.022 ,  0.0462,  0.0397],\n",
       "        [ 0.0145,  0.0274,  0.0214],\n",
       "        ..., \n",
       "        [ 0.0085,  0.0111,  0.0057],\n",
       "        [ 0.0085,  0.0111,  0.0057],\n",
       "        [ 0.0105,  0.0149,  0.0087]],\n",
       "\n",
       "       [[ 0.0262,  0.0448,  0.0387],\n",
       "        [ 0.0145,  0.0349,  0.0214],\n",
       "        [ 0.0201,  0.0349,  0.0306],\n",
       "        ..., \n",
       "        [ 0.0161,  0.0111,  0.0057],\n",
       "        [ 0.0123,  0.0111,  0.0057],\n",
       "        [ 0.0085,  0.0149,  0.0087]],\n",
       "\n",
       "       [[ 0.0244,  0.0484,  0.0417],\n",
       "        [ 0.0295,  0.0538,  0.0489],\n",
       "        [ 0.0172,  0.0412,  0.0242],\n",
       "        ..., \n",
       "        [ 0.0067,  0.0148,  0.0057],\n",
       "        [ 0.0123,  0.0148,  0.0057],\n",
       "        [ 0.0105,  0.0148,  0.0087]]], dtype=float32)"
      ]
     },
     "execution_count": 4,
     "metadata": {},
     "output_type": "execute_result"
    }
   ],
   "source": [
    "M.layers['rgb'].region"
   ]
  },
  {
   "cell_type": "code",
   "execution_count": 8,
   "metadata": {
    "collapsed": false,
    "scrolled": false
   },
   "outputs": [
    {
     "data": {
      "text/plain": [
       "<matplotlib.image.AxesImage at 0x7ffa326e1550>"
      ]
     },
     "execution_count": 8,
     "metadata": {},
     "output_type": "execute_result"
    },
    {
     "data": {
      "image/png": "[encoded data removed]",
      "text/plain": [
       "<matplotlib.figure.Figure at 0x7ffa327c1ed0>"
      ]
     },
     "metadata": {},
     "output_type": "display_data"
    }
   ],
   "source": [
    "import numpy as np\n",
    "\n",
    "fig, ax = plt.subplots(figsize=(12, 12))\n",
    "\n",
    "# Display BRG\n",
    "# n = M.layers['rgb'].region\n",
    "\n",
    "# Flip the second axis to get RGB\n",
    "n = np.apply_along_axis(np.flipud, 2, M.layers['rgb'].region)\n",
    "ax.imshow(n, interpolation='none')"
   ]
  },
  {
   "cell_type": "code",
   "execution_count": 9,
   "metadata": {
    "collapsed": false
   },
   "outputs": [
    {
     "data": {
      "text/plain": [
       "<matplotlib.image.AxesImage at 0x7ff9dc06fb50>"
      ]
     },
     "execution_count": 9,
     "metadata": {},
     "output_type": "execute_result"
    },
    {
     "data": {
      "image/png": "[encoded data removed]",
      "text/plain": [
       "<matplotlib.figure.Figure at 0x7ffa326f19d0>"
      ]
     },
     "metadata": {},
     "output_type": "display_data"
    }
   ],
   "source": [
    "from scipy import ndimage\n",
    "fig, ax = plt.subplots(figsize=(12, 12))\n",
    "\n",
    "k = np.array([[[1, 1, 1], [1, 1, 1], [0, 0, 0]],\n",
    "              [[1, 1, 1], [0, 0, 0], [0, 0, 0]],\n",
    "              [[0, 0, 0], [0, 0, 0], [0, 0, 0]]])\n",
    "\n",
    "ax.imshow(ndimage.convolve(n, k, mode='constant', cval=0.0), interpolation='none')"
   ]
  },
  {
   "cell_type": "code",
   "execution_count": 9,
   "metadata": {
    "collapsed": false
   },
   "outputs": [
    {
     "data": {
      "text/plain": [
       "<geonotebook.kernel.ReplyCallback at 0x7faadbea62d0>"
      ]
     },
     "execution_count": 9,
     "metadata": {},
     "output_type": "execute_result"
    }
   ],
   "source": [
    "M.remove_layer('rgb')"
   ]
  },
  {
   "cell_type": "code",
   "execution_count": null,
   "metadata": {
    "collapsed": false
   },
   "outputs": [],
   "source": [
    "M.layers"
   ]
  }
 ],
 "metadata": {
  "kernelspec": {
   "display_name": "Geonotebook (Python 2)",
   "language": "python",
   "name": "geonotebook2"
  },
  "language_info": {
   "codemirror_mode": {
    "name": "ipython",
    "version": 2
   },
   "file_extension": ".py",
   "mimetype": "text/x-python",
   "name": "python",
   "nbconvert_exporter": "python",
   "pygments_lexer": "ipython2",
   "version": "2.7.12"
  },
  "widgets": {
   "state": {},
   "version": "1.1.2"
  }
 },
 "nbformat": 4,
 "nbformat_minor": 1
}
