{
 "cells": [
  {
   "cell_type": "markdown",
   "metadata": {},
   "source": [
    "### Make sure you have the geoserver VM running\n",
    "\n",
    "this should show something like:\n",
    "\n",
    "```\n",
    "Current machine states:\n",
    "\n",
    "geoserver                 running (virtualbox)\n",
    "\n",
    "The VM is running. To stop this VM, you can run `vagrant halt` to\n",
    "shut it down forcefully, or you can run `vagrant suspend` to simply\n",
    "suspend the virtual machine. In either case, to restart it again,\n",
    "simply run `vagrant up`.\n",
    "```\n",
    "\n",
    "You can do this by going to the geoserver/ directory and running ```vagrant up```"
   ]
  },
  {
   "cell_type": "code",
   "execution_count": null,
   "metadata": {
    "collapsed": false
   },
   "outputs": [],
   "source": [
    "!cd ../geoserver && vagrant status"
   ]
  },
  {
   "cell_type": "markdown",
   "metadata": {},
   "source": [
    "### Display geoserver status\n",
    "\n",
    "This should ensure the client can successfully connect to your VM,  if you do not see the Geoserver 'Status' page then something is wrong!"
   ]
  },
  {
   "cell_type": "code",
   "execution_count": null,
   "metadata": {
    "collapsed": true
   },
   "outputs": [],
   "source": [
    "from IPython.core.display import display, HTML\n",
    "from geonotebook.config import Config\n",
    "geoserver = Config().vis_server\n",
    "display(HTML(geoserver.c.get(\"/about/status\").text))"
   ]
  },
  {
   "cell_type": "markdown",
   "metadata": {},
   "source": [
    "### Get the rgb.tif file from data.kitware.com"
   ]
  },
  {
   "cell_type": "code",
   "execution_count": null,
   "metadata": {
    "collapsed": false
   },
   "outputs": [],
   "source": [
    "!wget -O /tmp/rgb.tif https://data.kitware.com/api/v1/file/57b471dd8d777f126827e6b7/download"
   ]
  },
  {
   "cell_type": "markdown",
   "metadata": {},
   "source": [
    "### Add the layer to the map"
   ]
  },
  {
   "cell_type": "code",
   "execution_count": 1,
   "metadata": {
    "collapsed": false
   },
   "outputs": [
    {
     "data": {
      "text/plain": [
       "<geonotebook.kernel.ReplyCallback at 0x7fe468483810>"
      ]
     },
     "execution_count": 1,
     "metadata": {},
     "output_type": "execute_result"
    }
   ],
   "source": [
    "M.add_layer(\"/tmp/rgb.tif\")"
   ]
  },
  {
   "cell_type": "code",
   "execution_count": 2,
   "metadata": {
    "collapsed": false
   },
   "outputs": [
    {
     "data": {
      "text/plain": [
       "GeonotebookStack([<GeonotebookLayer('osm_base')>, <GeonotebookLayer('rgb')>])"
      ]
     },
     "execution_count": 2,
     "metadata": {},
     "output_type": "execute_result"
    }
   ],
   "source": [
    "# List Layers\n",
    "M.layers\n",
    "\n",
    "# Select Layer\n",
    "# M.layers['rgb']\n",
    "\n",
    "# Get data from layer region - not yet implemented!\n",
    "# M.layers['rgb'].region "
   ]
  },
  {
   "cell_type": "code",
   "execution_count": 4,
   "metadata": {
    "collapsed": false
   },
   "outputs": [
    {
     "data": {
      "text/plain": [
       "'/tmp/rgb.tif'"
      ]
     },
     "execution_count": 4,
     "metadata": {},
     "output_type": "execute_result"
    }
   ],
   "source": [
    "M.layers['rgb'].data_path"
   ]
  },
  {
   "cell_type": "code",
   "execution_count": 3,
   "metadata": {
    "collapsed": false
   },
   "outputs": [
    {
     "data": {
      "text/plain": [
       "<geonotebook.kernel.ReplyCallback at 0x7fbfec0b89d0>"
      ]
     },
     "execution_count": 3,
     "metadata": {},
     "output_type": "execute_result"
    }
   ],
   "source": [
    "M.remove_layer('rgb')"
   ]
  },
  {
   "cell_type": "code",
   "execution_count": 4,
   "metadata": {
    "collapsed": false
   },
   "outputs": [
    {
     "data": {
      "text/plain": [
       "GeonotebookStack([<GeonotebookLayer('osm_base')>])"
      ]
     },
     "execution_count": 4,
     "metadata": {},
     "output_type": "execute_result"
    }
   ],
   "source": [
    "M.layers"
   ]
  },
  {
   "cell_type": "code",
   "execution_count": null,
   "metadata": {
    "collapsed": false
   },
   "outputs": [],
   "source": [
    "# Clean up,  delete the workspace\n",
    "c.delete(\"/workspaces/test\")"
   ]
  }
 ],
 "metadata": {
  "kernelspec": {
   "display_name": "Geonotebook (Python 2)",
   "language": "python",
   "name": "geonotebook2"
  },
  "language_info": {
   "codemirror_mode": {
    "name": "ipython",
    "version": 2
   },
   "file_extension": ".py",
   "mimetype": "text/x-python",
   "name": "python",
   "nbconvert_exporter": "python",
   "pygments_lexer": "ipython2",
   "version": "2.7.12"
  },
  "widgets": {
   "state": {},
   "version": "1.1.2"
  }
 },
 "nbformat": 4,
 "nbformat_minor": 1
}
