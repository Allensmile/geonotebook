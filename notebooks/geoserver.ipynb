{
 "cells": [
  {
   "cell_type": "markdown",
   "metadata": {},
   "source": [
    "### Set up a client to handle authentication etc with geoserver"
   ]
  },
  {
   "cell_type": "code",
   "execution_count": 5,
   "metadata": {
    "collapsed": false
   },
   "outputs": [],
   "source": [
    "import requests\n",
    "import functools\n",
    "from pprint import pprint\n",
    "from IPython.core.display import display, HTML\n",
    "\n",
    "BASE_URL = \"http://127.0.0.1:8080/geoserver/rest\"\n",
    "\n",
    "class Client(object):\n",
    "  def __init__(self, url, username='admin', password='geoserver'):\n",
    "    self.base_url = url\n",
    "    self.auth = {'auth': (username, password)}\n",
    "    \n",
    "  def _proxy(self, method, uri, *args, **kwargs):\n",
    "    kwargs.update(self.auth)\n",
    "    return method(self.base_url + uri, *args, **kwargs)\n",
    "\n",
    "  def get(self, *args, **kwargs):\n",
    "    return self._proxy(requests.get, *args, **kwargs)\n",
    "  \n",
    "  def put(self, *args, **kwargs):\n",
    "    return self._proxy(requests.put, *args, **kwargs)\n",
    "  \n",
    "  def post(self, *args, **kwargs):\n",
    "    return self._proxy(requests.post, *args, **kwargs)\n",
    "  \n",
    "  def delete(self, *args, **kwargs):\n",
    "    return self._proxy(requests.delete, *args, **kwargs)\n",
    "  \n",
    "  def head(self, *args, **kwargs):\n",
    "    return self._proxy(requests.head, *args, **kwargs)  \n",
    " \n",
    "c = Client(BASE_URL)\n"
   ]
  },
  {
   "cell_type": "markdown",
   "metadata": {},
   "source": [
    "### Make sure you have the geoserver VM running\n",
    "\n",
    "this should show something like:\n",
    "\n",
    "```\n",
    "Current machine states:\n",
    "\n",
    "geoserver                 running (virtualbox)\n",
    "\n",
    "The VM is running. To stop this VM, you can run `vagrant halt` to\n",
    "shut it down forcefully, or you can run `vagrant suspend` to simply\n",
    "suspend the virtual machine. In either case, to restart it again,\n",
    "simply run `vagrant up`.\n",
    "```\n",
    "\n",
    "You can do this by going to the geoserver/ directory and running ```vagrant up```"
   ]
  },
  {
   "cell_type": "code",
   "execution_count": 2,
   "metadata": {
    "collapsed": false
   },
   "outputs": [
    {
     "name": "stdout",
     "output_type": "stream",
     "text": [
      "\u001b[0mCurrent machine states:\r\n",
      "\r\n",
      "geoserver                 running (virtualbox)\r\n",
      "\r\n",
      "The VM is running. To stop this VM, you can run `vagrant halt` to\r\n",
      "shut it down forcefully, or you can run `vagrant suspend` to simply\r\n",
      "suspend the virtual machine. In either case, to restart it again,\r\n",
      "simply run `vagrant up`.\u001b[0m\r\n"
     ]
    }
   ],
   "source": [
    "!cd ../geoserver && vagrant status"
   ]
  },
  {
   "cell_type": "markdown",
   "metadata": {},
   "source": [
    "### Display geoserver status\n",
    "\n",
    "This should ensure the client can successfully connect to your VM,  if you do not see the Geoserver 'Status' page then something is wrong!"
   ]
  },
  {
   "cell_type": "code",
   "execution_count": 9,
   "metadata": {
    "collapsed": false
   },
   "outputs": [
    {
     "data": {
      "text/html": [
       "<!DOCTYPE html PUBLIC \"-//W3C//DTD XHTML 1.0 Transitional//EN\"\n",
       "    \"http://www.w3.org/TR/xhtml1/DTD/xhtml1-transitional.dtd\">\n",
       "<html xmlns=\"http://www.w3.org/1999/xhtml\" xml:lang=\"en\" lang=\"en\">\n",
       "<head>\n",
       "    <title>GeoServer Configuration</title>\n",
       "    <meta name=\"ROBOTS\" content=\"NOINDEX, NOFOLLOW\"/>\n",
       "</head>\n",
       "<body>\n",
       "\n",
       "<h2>About:</h2>\n",
       "<ul>\n",
       "    <li><h3>Module name: GeoServer Web Map Service</h3>\n",
       "        <ul>\n",
       "            <li><b>Module</b> : gs-wms</li>\n",
       "                <li><b>Enabled</b> : true</li>\n",
       "                <li><b>Available</b> : true</li>\n",
       "        </ul>\n",
       "    </li>\n",
       "    <li><h3>Module name: GeoServer Web UI Web Map Service</h3>\n",
       "        <ul>\n",
       "            <li><b>Module</b> : gs-web-wms</li>\n",
       "                <li><b>Enabled</b> : true</li>\n",
       "                <li><b>Available</b> : true</li>\n",
       "        </ul>\n",
       "    </li>\n",
       "    <li><h3>Module name: GeoServer Web Demos</h3>\n",
       "        <ul>\n",
       "            <li><b>Module</b> : gs-web-demo</li>\n",
       "                <li><b>Enabled</b> : true</li>\n",
       "                <li><b>Available</b> : true</li>\n",
       "        </ul>\n",
       "    </li>\n",
       "    <li><h3>Module name: GeoServer Security JDBC</h3>\n",
       "        <ul>\n",
       "            <li><b>Module</b> : gs-sec-jdbc</li>\n",
       "                <li><b>Enabled</b> : true</li>\n",
       "                <li><b>Available</b> : true</li>\n",
       "        </ul>\n",
       "    </li>\n",
       "    <li><h3>Module name: GeoServer Web UI Security LDAP</h3>\n",
       "        <ul>\n",
       "            <li><b>Module</b> : gs-web-sec-ldap</li>\n",
       "                <li><b>Enabled</b> : true</li>\n",
       "                <li><b>Available</b> : true</li>\n",
       "        </ul>\n",
       "    </li>\n",
       "    <li><h3>Module name: GeoServer KML</h3>\n",
       "        <ul>\n",
       "            <li><b>Module</b> : gs-kml</li>\n",
       "                <li><b>Enabled</b> : true</li>\n",
       "                <li><b>Available</b> : true</li>\n",
       "        </ul>\n",
       "    </li>\n",
       "    <li><h3>Module name: GeoServer Web Coverage Service 2.0</h3>\n",
       "        <ul>\n",
       "            <li><b>Module</b> : gs-wcs2_0</li>\n",
       "                <li><b>Enabled</b> : true</li>\n",
       "                <li><b>Available</b> : true</li>\n",
       "        </ul>\n",
       "    </li>\n",
       "    <li><h3>Module name: GeoWeb Cache</h3>\n",
       "        <ul>\n",
       "            <li><b>Module</b> : gs-gwc</li>\n",
       "                <li><b>Enabled</b> : true</li>\n",
       "                <li><b>Available</b> : true</li>\n",
       "        </ul>\n",
       "    </li>\n",
       "    <li><h3>Module name: GeoServer Web Coverage Service 1.1</h3>\n",
       "        <ul>\n",
       "            <li><b>Module</b> : gs-wcs1_1</li>\n",
       "                <li><b>Enabled</b> : true</li>\n",
       "                <li><b>Available</b> : true</li>\n",
       "        </ul>\n",
       "    </li>\n",
       "    <li><h3>Module name: GeoServer Web Coverage Service</h3>\n",
       "        <ul>\n",
       "            <li><b>Module</b> : gs-wcs</li>\n",
       "                <li><b>Enabled</b> : true</li>\n",
       "                <li><b>Available</b> : true</li>\n",
       "        </ul>\n",
       "    </li>\n",
       "    <li><h3>Module name: GeoServer Web UI Security Core</h3>\n",
       "        <ul>\n",
       "            <li><b>Module</b> : gs-web-sec-core</li>\n",
       "                <li><b>Enabled</b> : true</li>\n",
       "                <li><b>Available</b> : true</li>\n",
       "        </ul>\n",
       "    </li>\n",
       "    <li><h3>Module name: GeoServer Web UI Security JDBC</h3>\n",
       "        <ul>\n",
       "            <li><b>Module</b> : gs-web-sec-jdbc</li>\n",
       "                <li><b>Enabled</b> : true</li>\n",
       "                <li><b>Available</b> : true</li>\n",
       "        </ul>\n",
       "    </li>\n",
       "    <li><h3>Module name: GeoServer Web UI Web Coverage Service</h3>\n",
       "        <ul>\n",
       "            <li><b>Module</b> : gs-web-wcs</li>\n",
       "                <li><b>Enabled</b> : true</li>\n",
       "                <li><b>Available</b> : true</li>\n",
       "        </ul>\n",
       "    </li>\n",
       "    <li><h3>Module name: GeoServer Web Feature Service</h3>\n",
       "        <ul>\n",
       "            <li><b>Module</b> : gs-wfs</li>\n",
       "                <li><b>Enabled</b> : true</li>\n",
       "                <li><b>Available</b> : true</li>\n",
       "        </ul>\n",
       "    </li>\n",
       "    <li><h3>Module name: GeoServer REST</h3>\n",
       "        <ul>\n",
       "            <li><b>Module</b> : gs-rest</li>\n",
       "                <li><b>Enabled</b> : true</li>\n",
       "                <li><b>Available</b> : true</li>\n",
       "        </ul>\n",
       "    </li>\n",
       "    <li><h3>Module name: GeoServer Web Coverage Service 1.0</h3>\n",
       "        <ul>\n",
       "            <li><b>Module</b> : gs-wcs1_0</li>\n",
       "                <li><b>Enabled</b> : true</li>\n",
       "                <li><b>Available</b> : true</li>\n",
       "        </ul>\n",
       "    </li>\n",
       "    <li><h3>Module name: GeoServer Web UI Web Feature Service</h3>\n",
       "        <ul>\n",
       "            <li><b>Module</b> : gs-web-wfs</li>\n",
       "                <li><b>Enabled</b> : true</li>\n",
       "                <li><b>Available</b> : true</li>\n",
       "        </ul>\n",
       "    </li>\n",
       "    <li><h3>Module name: GeoServer REST Configuration</h3>\n",
       "        <ul>\n",
       "            <li><b>Module</b> : gs-restconfig</li>\n",
       "                <li><b>Enabled</b> : true</li>\n",
       "                <li><b>Available</b> : true</li>\n",
       "        </ul>\n",
       "    </li>\n",
       "    <li><h3>Module name: GeoServer Web UI GeoWebCache</h3>\n",
       "        <ul>\n",
       "            <li><b>Module</b> : gs-web-gwc</li>\n",
       "                <li><b>Enabled</b> : true</li>\n",
       "                <li><b>Available</b> : true</li>\n",
       "        </ul>\n",
       "    </li>\n",
       "    <li><h3>Module name: GeoServer Web UI Core</h3>\n",
       "        <ul>\n",
       "            <li><b>Module</b> : gs-web-core</li>\n",
       "                <li><b>Enabled</b> : true</li>\n",
       "                <li><b>Available</b> : true</li>\n",
       "        </ul>\n",
       "    </li>\n",
       "    <li><h3>Module name: GeoServer Main</h3>\n",
       "        <ul>\n",
       "            <li><b>Module</b> : gs-main</li>\n",
       "                <li><b>Enabled</b> : true</li>\n",
       "                <li><b>Available</b> : true</li>\n",
       "        </ul>\n",
       "    </li>\n",
       "    <li><h3>Module name: Rendering Engine</h3>\n",
       "        <ul>\n",
       "            <li><b>Module</b> : jvm</li>\n",
       "               <li><b>Component</b> : java2d</li>\n",
       "                <li><b>Version</b> : 1.8.0_101</li>\n",
       "                <li><b>Enabled</b> : true</li>\n",
       "                <li><b>Available</b> : true</li>\n",
       "                <li><b>Message</b> : Java 2D configured with DuctusRenderingEngine.<br/>Provider: OracleJDK<br/></li>\n",
       "        </ul>\n",
       "    </li>\n",
       "    <li><h3>Module name: system-properties</h3>\n",
       "        <ul>\n",
       "            <li><b>Module</b> : system-properties</li>\n",
       "               <li><b>Component</b> : system-properties</li>\n",
       "                <li><b>Enabled</b> : true</li>\n",
       "                <li><b>Available</b> : true</li>\n",
       "                <li><b>Message</b> : java.runtime.name=Java(TM) SE Runtime Environment<br/>sun.boot.library.path=/usr/lib/jvm/java-8-oracle/jre/lib/amd64<br/>java.vm.version=25.101-b13<br/>shared.loader=${catalina.home}/shared/classes,${catalina.home}/shared/*.jar<br/>java.util.prefs.syncInterval=5000000<br/>java.vm.vendor=Oracle Corporation<br/>java.vendor.url=http://java.oracle.com/<br/>path.separator=:<br/>tomcat.util.buf.StringCache.byte.enabled=true<br/>java.util.logging.config.file=/var/lib/tomcat8/conf/logging.properties<br/>java.vm.name=Java HotSpot(TM) 64-Bit Server VM<br/>file.encoding.pkg=sun.io<br/>user.country=US<br/>sun.java.launcher=SUN_STANDARD<br/>sun.os.patch.level=unknown<br/>tomcat.util.scan.StandardJarScanFilter.jarsToScan=log4j-core*.jar,log4j-taglib*.jar,log4javascript*.jar<br/>java.vm.specification.name=Java Virtual Machine Specification<br/>user.dir=/var/lib/tomcat8<br/>java.runtime.version=1.8.0_101-b13<br/>java.awt.graphicsenv=sun.awt.X11GraphicsEnvironment<br/>java.endorsed.dirs=/usr/share/tomcat8/endorsed<br/>os.arch=amd64<br/>org.geotools.epsg.factory.timeout=-1<br/>java.io.tmpdir=/tmp/tomcat8-tomcat8-tmp<br/>line.separator=<br/><br/>java.vm.specification.vendor=Oracle Corporation<br/>java.naming.factory.url.pkgs=org.apache.naming<br/>java.util.logging.manager=org.apache.juli.ClassLoaderLogManager<br/>os.name=Linux<br/>sun.jnu.encoding=ISO-8859-1<br/>java.library.path=/usr/java/packages/lib/amd64:/usr/lib64:/lib64:/lib:/usr/lib<br/>java.specification.name=Java Platform API Specification<br/>java.class.version=52.0<br/>sun.management.compiler=HotSpot 64-Bit Tiered Compilers<br/>os.version=4.4.0-31-generic<br/>user.home=/usr/share/tomcat8<br/>catalina.useNaming=true<br/>user.timezone=UTC<br/>java.awt.printerjob=sun.print.PSPrinterJob<br/>file.encoding=ISO-8859-1<br/>java.specification.version=1.8<br/>tomcat.util.scan.StandardJarScanFilter.jarsToSkip=bootstrap.jar,commons-daemon.jar,tomcat-juli.jar,annotations-api.jar,el-api.jar,jsp-api.jar,servlet-api.jar,websocket-api.jar,catalina.jar,catalina-ant.jar,catalina-ha.jar,catalina-storeconfig.jar,catalina-tribes.jar,jasper.jar,jasper-el.jar,ecj-*.jar,tomcat-api.jar,tomcat-util.jar,tomcat-util-scan.jar,tomcat-coyote.jar,tomcat-dbcp.jar,tomcat-jni.jar,tomcat-websocket.jar,tomcat-i18n-en.jar,tomcat-i18n-es.jar,tomcat-i18n-fr.jar,tomcat-i18n-ja.jar,tomcat-juli-adapters.jar,catalina-jmx-remote.jar,catalina-ws.jar,tomcat-jdbc.jar,tools.jar,commons-beanutils*.jar,commons-codec*.jar,commons-collections*.jar,commons-dbcp*.jar,commons-digester*.jar,commons-fileupload*.jar,commons-httpclient*.jar,commons-io*.jar,commons-lang*.jar,commons-logging*.jar,commons-math*.jar,commons-pool*.jar,jstl.jar,taglibs-standard-spec-*.jar,geronimo-spec-jaxrpc*.jar,wsdl4j*.jar,ant.jar,ant-junit*.jar,aspectj*.jar,jmx.jar,h2*.jar,hibernate*.jar,httpclient*.jar,jmx-tools.jar,jta*.jar,log4j*.jar,mail*.jar,slf4j*.jar,xercesImpl.jar,xmlParserAPIs.jar,xml-apis.jar,junit.jar,junit-*.jar,ant-launcher.jar,cobertura-*.jar,asm-*.jar,dom4j-*.jar,icu4j-*.jar,jaxen-*.jar,jdom-*.jar,jetty-*.jar,oro-*.jar,servlet-api-*.jar,tagsoup-*.jar,xmlParserAPIs-*.jar,xom-*.jar<br/>catalina.home=/usr/share/tomcat8<br/>java.class.path=/usr/share/tomcat8/bin/bootstrap.jar:/usr/share/tomcat8/bin/tomcat-juli.jar<br/>user.name=tomcat8<br/>java.naming.factory.initial=org.apache.naming.java.javaURLContextFactory<br/>package.definition=sun.,java.,org.apache.catalina.,org.apache.coyote.,org.apache.jasper.,org.apache.naming.,org.apache.tomcat.<br/>java.vm.specification.version=1.8<br/>sun.java.command=org.apache.catalina.startup.Bootstrap start<br/>java.home=/usr/lib/jvm/java-8-oracle/jre<br/>sun.arch.data.model=64<br/>user.language=en<br/>java.specification.vendor=Oracle Corporation<br/>awt.toolkit=sun.awt.X11.XToolkit<br/>java.vm.info=mixed mode<br/>java.version=1.8.0_101<br/>java.ext.dirs=/usr/lib/jvm/java-8-oracle/jre/lib/ext:/usr/java/packages/lib/ext<br/>sun.boot.class.path=/usr/lib/jvm/java-8-oracle/jre/lib/resources.jar:/usr/lib/jvm/java-8-oracle/jre/lib/rt.jar:/usr/lib/jvm/java-8-oracle/jre/lib/sunrsasign.jar:/usr/lib/jvm/java-8-oracle/jre/lib/jsse.jar:/usr/lib/jvm/java-8-oracle/jre/lib/jce.jar:/usr/lib/jvm/java-8-oracle/jre/lib/charsets.jar:/usr/lib/jvm/java-8-oracle/jre/lib/jfr.jar:/usr/lib/jvm/java-8-oracle/jre/classes<br/>server.loader=${catalina.home}/server/classes,${catalina.home}/server/*.jar<br/>java.awt.headless=true<br/>java.vendor=Oracle Corporation<br/>catalina.base=/var/lib/tomcat8<br/>file.separator=/<br/>java.vendor.url.bug=http://bugreport.sun.com/bugreport/<br/>common.loader=\"${catalina.base}/lib\",\"${catalina.base}/lib/*.jar\",\"${catalina.home}/lib\",\"${catalina.home}/lib/*.jar\",\"${catalina.home}/common/classes\",\"${catalina.home}/common/*.jar\"<br/>org.geotools.referencing.forceXY=true<br/>sun.font.fontmanager=sun.awt.X11FontManager<br/>sun.io.unicode.encoding=UnicodeLittle<br/>sun.cpu.endian=little<br/>package.access=sun.,org.apache.catalina.,org.apache.coyote.,org.apache.jasper.,org.apache.tomcat.<br/>sun.cpu.isalist=<br/></li>\n",
       "        </ul>\n",
       "    </li>\n",
       "    <li><h3>Module name: system-environment</h3>\n",
       "        <ul>\n",
       "            <li><b>Module</b> : system-environment</li>\n",
       "               <li><b>Component</b> : system-environment</li>\n",
       "                <li><b>Enabled</b> : true</li>\n",
       "                <li><b>Available</b> : true</li>\n",
       "                <li><b>Message</b> : PATH=/bin:/usr/bin:/sbin:/usr/sbin<br/>LANGUAGE=en_US:<br/>CATALINA_PID=/var/run/tomcat8.pid<br/>CATALINA_TMPDIR=/tmp/tomcat8-tomcat8-tmp<br/>JAVA_HOME=/usr/lib/jvm/java-8-oracle<br/>_SYSTEMCTL_SKIP_REDIRECT=true<br/>CATALINA_HOME=/usr/share/tomcat8<br/>TOMCAT8_GROUP=tomcat8<br/>JAVA_OPTS=-Djava.awt.headless=true -Xmx256m -Xmx1750m -XX:SoftRefLRUPolicyMSPerMB=36000 -XX:+UseConcMarkSweepGC<br/>JSSE_HOME=/usr/lib/jvm/java-8-oracle/jre/<br/>OLDPWD=/tmp/tomcat8-tomcat8-tmp<br/>XFILESEARCHPATH=/usr/dt/app-defaults/%L/Dt<br/>LANG=en_US<br/>TOMCAT8_USER=tomcat8<br/>CATALINA_BASE=/var/lib/tomcat8<br/>NLSPATH=/usr/dt/lib/nls/msg/%L/%N.cat<br/>PWD=/var/lib/tomcat8<br/>HOME=/usr/share/tomcat8<br/>SHLVL=1<br/>_=/usr/share/tomcat8/bin/catalina.sh<br/></li>\n",
       "        </ul>\n",
       "    </li>\n",
       "    <li><h3>Module name: GeoServer Web REST</h3>\n",
       "        <ul>\n",
       "            <li><b>Module</b> : gs-web-rest</li>\n",
       "                <li><b>Enabled</b> : true</li>\n",
       "                <li><b>Available</b> : true</li>\n",
       "        </ul>\n",
       "    </li>\n",
       "    <li><h3>Module name: GeoServer Security LDAP</h3>\n",
       "        <ul>\n",
       "            <li><b>Module</b> : gs-sec-ldap</li>\n",
       "                <li><b>Enabled</b> : true</li>\n",
       "                <li><b>Available</b> : true</li>\n",
       "        </ul>\n",
       "    </li>\n",
       "</ul>\n",
       "</body>\n",
       "</html>\n"
      ],
      "text/plain": [
       "<IPython.core.display.HTML object>"
      ]
     },
     "metadata": {},
     "output_type": "display_data"
    }
   ],
   "source": [
    "from IPython.core.display import display, HTML\n",
    "display(HTML(c.get(\"/about/status\").text))"
   ]
  },
  {
   "cell_type": "markdown",
   "metadata": {},
   "source": [
    "### Create a workspace"
   ]
  },
  {
   "cell_type": "code",
   "execution_count": 6,
   "metadata": {
    "collapsed": false,
    "scrolled": true
   },
   "outputs": [
    {
     "data": {
      "text/plain": [
       "<Response [500]>"
      ]
     },
     "execution_count": 6,
     "metadata": {},
     "output_type": "execute_result"
    }
   ],
   "source": [
    "c.post(\"/workspaces.json\", \n",
    "       json={'workspace': {'name': 'test'}}) "
   ]
  },
  {
   "cell_type": "code",
   "execution_count": 7,
   "metadata": {
    "collapsed": false
   },
   "outputs": [
    {
     "data": {
      "text/plain": [
       "{u'workspace': {u'coverageStores': u'http://127.0.0.1:8080/geoserver/rest/workspaces/test/coveragestores.json',\n",
       "  u'dataStores': u'http://127.0.0.1:8080/geoserver/rest/workspaces/test/datastores.json',\n",
       "  u'name': u'test',\n",
       "  u'wmsStores': u'http://127.0.0.1:8080/geoserver/rest/workspaces/test/wmsstores.json'}}"
      ]
     },
     "execution_count": 7,
     "metadata": {},
     "output_type": "execute_result"
    }
   ],
   "source": [
    "# Get the workspace\n",
    "c.get(\"/workspaces/test.json\").json()"
   ]
  },
  {
   "cell_type": "markdown",
   "metadata": {},
   "source": [
    "### Get the rgb.tif file from data.kitware.com"
   ]
  },
  {
   "cell_type": "code",
   "execution_count": 19,
   "metadata": {
    "collapsed": true
   },
   "outputs": [],
   "source": [
    "!wget --output-file=/tmp/rgb.tif https://data.kitware.com/api/v1/file/57b471dd8d777f126827e6b7/download "
   ]
  },
  {
   "cell_type": "markdown",
   "metadata": {},
   "source": [
    "### Create coveragestore with the coverage and generate layers "
   ]
  },
  {
   "cell_type": "code",
   "execution_count": 20,
   "metadata": {
    "collapsed": false
   },
   "outputs": [],
   "source": [
    "with open(\"/tmp/rgb.tif\", 'rb') as fh:\n",
    "  c.put(\"/workspaces/test/coveragestores/rgb/file.geotiff\",\n",
    "         params={\"coverageName\": 'rgb', \n",
    "                 \"configure\": \"all\"},\n",
    "         headers={\"Content-type\": \"image/tiff\"},\n",
    "         data=fh)"
   ]
  },
  {
   "cell_type": "markdown",
   "metadata": {},
   "source": [
    "### Get the 'rgb' coverage"
   ]
  },
  {
   "cell_type": "code",
   "execution_count": 9,
   "metadata": {
    "collapsed": false,
    "scrolled": true
   },
   "outputs": [
    {
     "data": {
      "text/plain": [
       "{u'coverage': {u'defaultInterpolationMethod': u'nearest neighbor',\n",
       "  u'description': u'Generated from GeoTIFF',\n",
       "  u'dimensions': {u'coverageDimension': [{u'description': u'GridSampleDimension[-32768.0,-32768.0]',\n",
       "     u'dimensionType': {u'name': u'UNSIGNED_8BITS'},\n",
       "     u'name': u'RED_BAND',\n",
       "     u'nullValues': {u'double': [-32768]},\n",
       "     u'range': {u'max': -32768, u'min': -32768},\n",
       "     u'unit': u'W.m-2.Sr-1'},\n",
       "    {u'description': u'GridSampleDimension[-32768.0,-32768.0]',\n",
       "     u'dimensionType': {u'name': u'UNSIGNED_8BITS'},\n",
       "     u'name': u'GREEN_BAND',\n",
       "     u'nullValues': {u'double': [-32768]},\n",
       "     u'range': {u'max': -32768, u'min': -32768},\n",
       "     u'unit': u'W.m-2.Sr-1'},\n",
       "    {u'description': u'GridSampleDimension[-32768.0,-32768.0]',\n",
       "     u'dimensionType': {u'name': u'UNSIGNED_8BITS'},\n",
       "     u'name': u'BLUE_BAND',\n",
       "     u'nullValues': {u'double': [-32768]},\n",
       "     u'range': {u'max': -32768, u'min': -32768},\n",
       "     u'unit': u'W.m-2.Sr-1'}]},\n",
       "  u'enabled': True,\n",
       "  u'grid': {u'@dimension': u'2',\n",
       "   u'crs': u'EPSG:3857',\n",
       "   u'range': {u'high': u'6974 2727', u'low': u'0 0'},\n",
       "   u'transform': {u'scaleX': 86.91501185185342,\n",
       "    u'scaleY': -86.91501185185342,\n",
       "    u'shearX': 0,\n",
       "    u'shearY': 0,\n",
       "    u'translateX': -13699188.350292463,\n",
       "    u'translateY': 6202408.856556024}},\n",
       "  u'interpolationMethods': {u'string': [u'nearest neighbor',\n",
       "    u'bilinear',\n",
       "    u'bicubic']},\n",
       "  u'keywords': {u'string': [u'WCS', u'GeoTIFF', u'rgb']},\n",
       "  u'latLonBoundingBox': {u'crs': u'GEOGCS[\"WGS84(DD)\", \\n  DATUM[\"WGS84\", \\n    SPHEROID[\"WGS84\", 6378137.0, 298.257223563]], \\n  PRIMEM[\"Greenwich\", 0.0], \\n  UNIT[\"degree\", 0.017453292519943295], \\n  AXIS[\"Geodetic longitude\", EAST], \\n  AXIS[\"Geodetic latitude\", NORTH]]',\n",
       "   u'maxx': -117.61719732852666,\n",
       "   u'maxy': 48.57142923919878,\n",
       "   u'minx': -123.06229313641596,\n",
       "   u'miny': 47.14292942093483},\n",
       "  u'metadata': {u'entry': {u'$': u'rgb_rgb', u'@key': u'dirName'}},\n",
       "  u'name': u'rgb',\n",
       "  u'namespace': {u'href': u'http://127.0.0.1:8080/geoserver/rest/namespaces/test.json',\n",
       "   u'name': u'test'},\n",
       "  u'nativeBoundingBox': {u'crs': {u'$': u'EPSG:3857', u'@class': u'projected'},\n",
       "   u'maxx': -13093086.515143564,\n",
       "   u'maxy': 6202452.31406195,\n",
       "   u'minx': -13699231.80779839,\n",
       "   u'miny': 5965435.076741946},\n",
       "  u'nativeCRS': {u'$': u'PROJCS[\"WGS 84 / Pseudo-Mercator\", \\n  GEOGCS[\"WGS 84\", \\n    DATUM[\"World Geodetic System 1984\", \\n      SPHEROID[\"WGS 84\", 6378137.0, 298.257223563, AUTHORITY[\"EPSG\",\"7030\"]], \\n      AUTHORITY[\"EPSG\",\"6326\"]], \\n    PRIMEM[\"Greenwich\", 0.0, AUTHORITY[\"EPSG\",\"8901\"]], \\n    UNIT[\"degree\", 0.017453292519943295], \\n    AXIS[\"Geodetic longitude\", EAST], \\n    AXIS[\"Geodetic latitude\", NORTH], \\n    AUTHORITY[\"EPSG\",\"4326\"]], \\n  PROJECTION[\"Popular Visualisation Pseudo Mercator\", AUTHORITY[\"EPSG\",\"1024\"]], \\n  PARAMETER[\"semi_minor\", 6378137.0], \\n  PARAMETER[\"latitude_of_origin\", 0.0], \\n  PARAMETER[\"central_meridian\", 0.0], \\n  PARAMETER[\"scale_factor\", 1.0], \\n  PARAMETER[\"false_easting\", 0.0], \\n  PARAMETER[\"false_northing\", 0.0], \\n  UNIT[\"m\", 1.0], \\n  AXIS[\"Easting\", EAST], \\n  AXIS[\"Northing\", NORTH], \\n  AUTHORITY[\"EPSG\",\"3857\"]]',\n",
       "   u'@class': u'projected'},\n",
       "  u'nativeCoverageName': u'rgb',\n",
       "  u'nativeFormat': u'GeoTIFF',\n",
       "  u'nativeName': u'rgb',\n",
       "  u'parameters': {u'entry': [{u'string': [u'InputTransparentColor', u'']},\n",
       "    {u'string': [u'SUGGESTED_TILE_SIZE', u'512,512']}]},\n",
       "  u'projectionPolicy': u'REPROJECT_TO_DECLARED',\n",
       "  u'requestSRS': {u'string': [u'EPSG:3857']},\n",
       "  u'responseSRS': {u'string': [u'EPSG:3857']},\n",
       "  u'srs': u'EPSG:3857',\n",
       "  u'store': {u'@class': u'coverageStore',\n",
       "   u'href': u'http://127.0.0.1:8080/geoserver/rest/workspaces/test/coveragestores/rgb.json',\n",
       "   u'name': u'test:rgb'},\n",
       "  u'supportedFormats': {u'string': [u'GEOTIFF',\n",
       "    u'GIF',\n",
       "    u'PNG',\n",
       "    u'JPEG',\n",
       "    u'TIFF',\n",
       "    u'ImageMosaic',\n",
       "    u'ArcGrid',\n",
       "    u'Gtopo30']},\n",
       "  u'title': u'rgb'}}"
      ]
     },
     "execution_count": 9,
     "metadata": {},
     "output_type": "execute_result"
    }
   ],
   "source": [
    "current = c.get(\"/workspaces/test/coveragestores/rgb/coverages/rgb.json\").json()\n",
    "current"
   ]
  },
  {
   "cell_type": "markdown",
   "metadata": {},
   "source": [
    "### Change some properties of the coverage"
   ]
  },
  {
   "cell_type": "code",
   "execution_count": 17,
   "metadata": {
    "collapsed": false
   },
   "outputs": [
    {
     "data": {
      "text/plain": [
       "<Response [200]>"
      ]
     },
     "execution_count": 17,
     "metadata": {},
     "output_type": "execute_result"
    }
   ],
   "source": [
    "current['coverage']['dimensions']['coverageDimension'][0]['nullValues']['double'][0] = 0.0\n",
    "current['coverage']['dimensions']['coverageDimension'][0]['range']['min'] = 1\n",
    "current['coverage']['dimensions']['coverageDimension'][0]['range']['max'] = 255\n",
    "current['coverage']['dimensions']['coverageDimension'][1]['nullValues']['double'][0] = 0.0\n",
    "current['coverage']['dimensions']['coverageDimension'][1]['range']['min'] = 1\n",
    "current['coverage']['dimensions']['coverageDimension'][1]['range']['max'] = 255\n",
    "current['coverage']['dimensions']['coverageDimension'][2]['nullValues']['double'][0] = 0.0\n",
    "current['coverage']['dimensions']['coverageDimension'][2]['range']['min'] = 1\n",
    "current['coverage']['dimensions']['coverageDimension'][2]['range']['max'] = 255\n",
    "\n",
    "c.put(\"/workspaces/test/coveragestores/rgb/coverages/rgb.json\", json=current)"
   ]
  },
  {
   "cell_type": "code",
   "execution_count": 7,
   "metadata": {
    "collapsed": false,
    "scrolled": true
   },
   "outputs": [
    {
     "data": {
      "text/plain": [
       "{u'layer': {u'attribution': {u'logoHeight': 0, u'logoWidth': 0},\n",
       "  u'defaultStyle': {u'href': u'http://127.0.0.1:8080/geoserver/rest/styles/raster.json',\n",
       "   u'name': u'raster'},\n",
       "  u'name': u'rgb',\n",
       "  u'resource': {u'@class': u'coverage',\n",
       "   u'href': u'http://127.0.0.1:8080/geoserver/rest/workspaces/test/coveragestores/rgb/coverages/rgb.json',\n",
       "   u'name': u'rgb'},\n",
       "  u'type': u'RASTER'}}"
      ]
     },
     "execution_count": 7,
     "metadata": {},
     "output_type": "execute_result"
    }
   ],
   "source": [
    "# Get the layer\n",
    "# c.get(\"/layers/rgb.json\").json()"
   ]
  },
  {
   "cell_type": "code",
   "execution_count": 18,
   "metadata": {
    "collapsed": false
   },
   "outputs": [
    {
     "data": {
      "text/plain": [
       "<geonotebook.kernel.ReplyCallback at 0x7f2d64865910>"
      ]
     },
     "execution_count": 18,
     "metadata": {},
     "output_type": "execute_result"
    }
   ],
   "source": [
    "M.create_wms_layer(\"http://127.0.0.1:8080/geoserver/ows\", \"rgb\")"
   ]
  },
  {
   "cell_type": "code",
   "execution_count": 3,
   "metadata": {
    "collapsed": false
   },
   "outputs": [
    {
     "data": {
      "text/plain": [
       "BBox(ulx=-121.32263287061193, uly=47.81775513180975, lrx=-121.32144637512106, lry=47.81669282622947)"
      ]
     },
     "execution_count": 3,
     "metadata": {},
     "output_type": "execute_result"
    }
   ],
   "source": [
    "M.region"
   ]
  },
  {
   "cell_type": "code",
   "execution_count": 82,
   "metadata": {
    "collapsed": false
   },
   "outputs": [
    {
     "data": {
      "text/plain": [
       "<Response [200]>"
      ]
     },
     "execution_count": 82,
     "metadata": {},
     "output_type": "execute_result"
    }
   ],
   "source": [
    "# Clean up,  delete the workspace\n",
    "# c.delete(\"/workspaces/test\")"
   ]
  }
 ],
 "metadata": {
  "kernelspec": {
   "display_name": "Geonotebook (Python 2)",
   "language": "python",
   "name": "geonotebook2"
  },
  "language_info": {
   "codemirror_mode": {
    "name": "ipython",
    "version": 2
   },
   "file_extension": ".py",
   "mimetype": "text/x-python",
   "name": "python",
   "nbconvert_exporter": "python",
   "pygments_lexer": "ipython2",
   "version": "2.7.12"
  },
  "widgets": {
   "state": {},
   "version": "1.1.2"
  }
 },
 "nbformat": 4,
 "nbformat_minor": 1
}
