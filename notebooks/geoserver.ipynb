{
 "cells": [
  {
   "cell_type": "markdown",
   "metadata": {},
   "source": [
    "### Set up a client to handle authentication etc with geoserver"
   ]
  },
  {
   "cell_type": "code",
   "execution_count": null,
   "metadata": {
    "collapsed": false
   },
   "outputs": [],
   "source": [
    "import requests\n",
    "import functools\n",
    "from pprint import pprint\n",
    "from IPython.core.display import display, HTML\n",
    "\n",
    "BASE_URL = \"http://127.0.0.1:8080/geoserver/rest\"\n",
    "\n",
    "class Client(object):\n",
    "  def __init__(self, url, username='admin', password='geoserver'):\n",
    "    self.base_url = url\n",
    "    self.auth = {'auth': (username, password)}\n",
    "    \n",
    "  def _proxy(self, method, uri, *args, **kwargs):\n",
    "    kwargs.update(self.auth)\n",
    "    return method(self.base_url + uri, *args, **kwargs)\n",
    "\n",
    "  def get(self, *args, **kwargs):\n",
    "    return self._proxy(requests.get, *args, **kwargs)\n",
    "  \n",
    "  def put(self, *args, **kwargs):\n",
    "    return self._proxy(requests.put, *args, **kwargs)\n",
    "  \n",
    "  def post(self, *args, **kwargs):\n",
    "    return self._proxy(requests.post, *args, **kwargs)\n",
    "  \n",
    "  def delete(self, *args, **kwargs):\n",
    "    return self._proxy(requests.delete, *args, **kwargs)\n",
    "  \n",
    "  def head(self, *args, **kwargs):\n",
    "    return self._proxy(requests.head, *args, **kwargs)  \n",
    " \n",
    "c = Client(BASE_URL)\n"
   ]
  },
  {
   "cell_type": "markdown",
   "metadata": {},
   "source": [
    "### Make sure you have the geoserver VM running\n",
    "\n",
    "this should show something like:\n",
    "\n",
    "```\n",
    "Current machine states:\n",
    "\n",
    "geoserver                 running (virtualbox)\n",
    "\n",
    "The VM is running. To stop this VM, you can run `vagrant halt` to\n",
    "shut it down forcefully, or you can run `vagrant suspend` to simply\n",
    "suspend the virtual machine. In either case, to restart it again,\n",
    "simply run `vagrant up`.\n",
    "```\n",
    "\n",
    "You can do this by going to the geoserver/ directory and running ```vagrant up```"
   ]
  },
  {
   "cell_type": "code",
   "execution_count": null,
   "metadata": {
    "collapsed": false
   },
   "outputs": [],
   "source": [
    "!cd ../geoserver && vagrant status"
   ]
  },
  {
   "cell_type": "markdown",
   "metadata": {},
   "source": [
    "### Display geoserver status\n",
    "\n",
    "This should ensure the client can successfully connect to your VM,  if you do not see the Geoserver 'Status' page then something is wrong!"
   ]
  },
  {
   "cell_type": "code",
   "execution_count": null,
   "metadata": {
    "collapsed": true
   },
   "outputs": [],
   "source": [
    "from IPython.core.display import display, HTML\n",
    "display(HTML(c.get(\"/about/status\").text))"
   ]
  },
  {
   "cell_type": "markdown",
   "metadata": {},
   "source": [
    "### Create a workspace"
   ]
  },
  {
   "cell_type": "code",
   "execution_count": null,
   "metadata": {
    "collapsed": false,
    "scrolled": true
   },
   "outputs": [],
   "source": [
    "c.post(\"/workspaces.json\", \n",
    "       json={'workspace': {'name': 'test'}}) "
   ]
  },
  {
   "cell_type": "code",
   "execution_count": null,
   "metadata": {
    "collapsed": false
   },
   "outputs": [],
   "source": [
    "# Get the workspace\n",
    "c.get(\"/workspaces/test.json\").json()"
   ]
  },
  {
   "cell_type": "markdown",
   "metadata": {},
   "source": [
    "### Get the rgb.tif file from data.kitware.com"
   ]
  },
  {
   "cell_type": "code",
   "execution_count": null,
   "metadata": {
    "collapsed": false
   },
   "outputs": [],
   "source": [
    "!wget -O /tmp/rgb.tif https://data.kitware.com/api/v1/file/57b471dd8d777f126827e6b7/download"
   ]
  },
  {
   "cell_type": "markdown",
   "metadata": {},
   "source": [
    "### Create coveragestore with the coverage and generate layers "
   ]
  },
  {
   "cell_type": "code",
   "execution_count": null,
   "metadata": {
    "collapsed": false
   },
   "outputs": [],
   "source": [
    "with open(\"/tmp/rgb.tif\", 'rb') as fh:\n",
    "  c.put(\"/workspaces/test/coveragestores/rgb/file.geotiff\",\n",
    "         params={\"coverageName\": 'rgb', \n",
    "                 \"configure\": \"all\"},\n",
    "         headers={\"Content-type\": \"image/tiff\"},\n",
    "         data=fh)"
   ]
  },
  {
   "cell_type": "markdown",
   "metadata": {},
   "source": [
    "### Get the 'rgb' coverage"
   ]
  },
  {
   "cell_type": "code",
   "execution_count": null,
   "metadata": {
    "collapsed": true
   },
   "outputs": [],
   "source": [
    "current = c.get(\"/workspaces/test/coveragestores/rgb/coverages/rgb.json\").json()\n",
    "current"
   ]
  },
  {
   "cell_type": "markdown",
   "metadata": {},
   "source": [
    "### Change some properties of the coverage"
   ]
  },
  {
   "cell_type": "code",
   "execution_count": null,
   "metadata": {
    "collapsed": false
   },
   "outputs": [],
   "source": [
    "current['coverage']['dimensions']['coverageDimension'][0]['nullValues']['double'][0] = 0.0\n",
    "current['coverage']['dimensions']['coverageDimension'][0]['range']['min'] = 1\n",
    "current['coverage']['dimensions']['coverageDimension'][0]['range']['max'] = 255\n",
    "current['coverage']['dimensions']['coverageDimension'][1]['nullValues']['double'][0] = 0.0\n",
    "current['coverage']['dimensions']['coverageDimension'][1]['range']['min'] = 1\n",
    "current['coverage']['dimensions']['coverageDimension'][1]['range']['max'] = 255\n",
    "current['coverage']['dimensions']['coverageDimension'][2]['nullValues']['double'][0] = 0.0\n",
    "current['coverage']['dimensions']['coverageDimension'][2]['range']['min'] = 1\n",
    "current['coverage']['dimensions']['coverageDimension'][2]['range']['max'] = 255\n",
    "\n",
    "c.put(\"/workspaces/test/coveragestores/rgb/coverages/rgb.json\", json=current)"
   ]
  },
  {
   "cell_type": "code",
   "execution_count": null,
   "metadata": {
    "collapsed": false,
    "scrolled": true
   },
   "outputs": [],
   "source": [
    "# Get the layer\n",
    "# c.get(\"/layers/rgb.json\").json()"
   ]
  },
  {
   "cell_type": "code",
   "execution_count": 6,
   "metadata": {
    "collapsed": false
   },
   "outputs": [
    {
     "data": {
      "text/plain": [
       "<geonotebook.vis.geoserver.Geoserver at 0x7f885df14950>"
      ]
     },
     "execution_count": 6,
     "metadata": {},
     "output_type": "execute_result"
    }
   ],
   "source": [
    "M.layers['osm_base'].config.get_vis_server()"
   ]
  },
  {
   "cell_type": "code",
   "execution_count": 7,
   "metadata": {
    "collapsed": true
   },
   "outputs": [],
   "source": [
    "s = M.layers['osm_base'].config.get_vis_server()"
   ]
  },
  {
   "cell_type": "code",
   "execution_count": 10,
   "metadata": {
    "collapsed": false
   },
   "outputs": [
    {
     "data": {
      "text/plain": [
       "{u'workspace': {u'coverageStores': u'http://127.0.0.1:8080/geoserver/rest/workspaces/test/coveragestores.json',\n",
       "  u'dataStores': u'http://127.0.0.1:8080/geoserver/rest/workspaces/test/datastores.json',\n",
       "  u'name': u'test',\n",
       "  u'wmsStores': u'http://127.0.0.1:8080/geoserver/rest/workspaces/test/wmsstores.json'}}"
      ]
     },
     "execution_count": 10,
     "metadata": {},
     "output_type": "execute_result"
    }
   ],
   "source": [
    "s.c.get(\"/workspaces/test.json\").json()"
   ]
  },
  {
   "cell_type": "code",
   "execution_count": null,
   "metadata": {
    "collapsed": false
   },
   "outputs": [],
   "source": [
    "M.add_wms_layer(\"rgb\", \"http://127.0.0.1:8080/geoserver/ows\")"
   ]
  },
  {
   "cell_type": "code",
   "execution_count": null,
   "metadata": {
    "collapsed": false
   },
   "outputs": [],
   "source": [
    "# List Layers\n",
    "M.layers\n",
    "\n",
    "# Select Layer\n",
    "# M.layers['rgb']\n",
    "\n",
    "# Get data from layer region - not yet implemented!\n",
    "# M.layers['rgb'].region "
   ]
  },
  {
   "cell_type": "code",
   "execution_count": null,
   "metadata": {
    "collapsed": false
   },
   "outputs": [],
   "source": [
    "M.remove_wms_layer('rgb')"
   ]
  },
  {
   "cell_type": "code",
   "execution_count": null,
   "metadata": {
    "collapsed": false
   },
   "outputs": [],
   "source": [
    "M.layers"
   ]
  },
  {
   "cell_type": "code",
   "execution_count": null,
   "metadata": {
    "collapsed": false
   },
   "outputs": [],
   "source": [
    "# Clean up,  delete the workspace\n",
    "c.delete(\"/workspaces/test\")"
   ]
  }
 ],
 "metadata": {
  "kernelspec": {
   "display_name": "Geonotebook (Python 2)",
   "language": "python",
   "name": "geonotebook2"
  },
  "language_info": {
   "codemirror_mode": {
    "name": "ipython",
    "version": 2
   },
   "file_extension": ".py",
   "mimetype": "text/x-python",
   "name": "python",
   "nbconvert_exporter": "python",
   "pygments_lexer": "ipython2",
   "version": "2.7.12"
  },
  "widgets": {
   "state": {},
   "version": "1.1.2"
  }
 },
 "nbformat": 4,
 "nbformat_minor": 1
}
