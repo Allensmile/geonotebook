{
 "cells": [
  {
   "cell_type": "code",
   "execution_count": 1,
   "metadata": {
    "collapsed": true
   },
   "outputs": [],
   "source": [
    "%matplotlib inline\n",
    "from matplotlib import pylab as plt\n",
    "from ipywidgets import interact\n",
    "import ipywidgets as widgets\n",
    "import matplotlib as mpl\n",
    "import numpy as np"
   ]
  },
  {
   "cell_type": "code",
   "execution_count": 2,
   "metadata": {
    "collapsed": true
   },
   "outputs": [],
   "source": [
    "from geonotebook.wrappers import RasterDataCollection\n",
    "import os"
   ]
  },
  {
   "cell_type": "code",
   "execution_count": 3,
   "metadata": {
    "collapsed": true
   },
   "outputs": [],
   "source": [
    "DATA_DIR=\"/data/kotfic/NEX/golden_tile_layer/WELD/golden_tiles/geotiff/NBAR/\""
   ]
  },
  {
   "cell_type": "code",
   "execution_count": 4,
   "metadata": {
    "collapsed": false
   },
   "outputs": [],
   "source": [
    "def sort_NBAR(a, b):\n",
    "  am, ay = int(a.split(\".\")[2][-2:]), int(a.split(\".\")[3])\n",
    "  bm, by = int(b.split(\".\")[2][-2:]), int(b.split(\".\")[3])\n",
    "\n",
    "  if ay < by:\n",
    "    return -1\n",
    "  elif ay > by:\n",
    "    return 1\n",
    "  elif by == ay:\n",
    "    if am < bm:\n",
    "      return -1\n",
    "    elif am > bm:\n",
    "      return 1\n",
    "    else:\n",
    "      return 0\n",
    "  \n",
    "\n",
    "PATHS = [DATA_DIR + p for p in sorted(os.listdir(DATA_DIR), sort_NBAR)]"
   ]
  },
  {
   "cell_type": "code",
   "execution_count": 5,
   "metadata": {
    "collapsed": false,
    "scrolled": true
   },
   "outputs": [
    {
     "data": {
      "text/plain": [
       "['/data/kotfic/NEX/golden_tile_layer/WELD/golden_tiles/geotiff/NBAR/L57.Globe.month12.2008.hh09vv04.h6v1.doy339to366.NBAR.v3.0.tiff',\n",
       " '/data/kotfic/NEX/golden_tile_layer/WELD/golden_tiles/geotiff/NBAR/L57.Globe.month01.2009.hh09vv04.h6v1.doy005to031.NBAR.v3.0.tiff',\n",
       " '/data/kotfic/NEX/golden_tile_layer/WELD/golden_tiles/geotiff/NBAR/L57.Globe.month02.2009.hh09vv04.h6v1.doy032to055.NBAR.v3.0.tiff',\n",
       " '/data/kotfic/NEX/golden_tile_layer/WELD/golden_tiles/geotiff/NBAR/L57.Globe.month03.2009.hh09vv04.h6v1.doy060to087.NBAR.v3.0.tiff',\n",
       " '/data/kotfic/NEX/golden_tile_layer/WELD/golden_tiles/geotiff/NBAR/L57.Globe.month04.2009.hh09vv04.h6v1.doy093to120.NBAR.v3.0.tiff',\n",
       " '/data/kotfic/NEX/golden_tile_layer/WELD/golden_tiles/geotiff/NBAR/L57.Globe.month05.2009.hh09vv04.h6v1.doy124to151.NBAR.v3.0.tiff',\n",
       " '/data/kotfic/NEX/golden_tile_layer/WELD/golden_tiles/geotiff/NBAR/L57.Globe.month06.2009.hh09vv04.h6v1.doy152to181.NBAR.v3.0.tiff',\n",
       " '/data/kotfic/NEX/golden_tile_layer/WELD/golden_tiles/geotiff/NBAR/L57.Globe.month07.2009.hh09vv04.h6v1.doy182to212.NBAR.v3.0.tiff',\n",
       " '/data/kotfic/NEX/golden_tile_layer/WELD/golden_tiles/geotiff/NBAR/L57.Globe.month08.2009.hh09vv04.h6v1.doy213to240.NBAR.v3.0.tiff',\n",
       " '/data/kotfic/NEX/golden_tile_layer/WELD/golden_tiles/geotiff/NBAR/L57.Globe.month09.2009.hh09vv04.h6v1.doy244to271.NBAR.v3.0.tiff',\n",
       " '/data/kotfic/NEX/golden_tile_layer/WELD/golden_tiles/geotiff/NBAR/L57.Globe.month10.2009.hh09vv04.h6v1.doy276to304.NBAR.v3.0.tiff',\n",
       " '/data/kotfic/NEX/golden_tile_layer/WELD/golden_tiles/geotiff/NBAR/L57.Globe.month11.2009.hh09vv04.h6v1.doy308to334.NBAR.v3.0.tiff',\n",
       " '/data/kotfic/NEX/golden_tile_layer/WELD/golden_tiles/geotiff/NBAR/L57.Globe.month12.2009.hh09vv04.h6v1.doy335to359.NBAR.v3.0.tiff',\n",
       " '/data/kotfic/NEX/golden_tile_layer/WELD/golden_tiles/geotiff/NBAR/L57.Globe.month01.2010.hh09vv04.h6v1.doy003to027.NBAR.v3.0.tiff',\n",
       " '/data/kotfic/NEX/golden_tile_layer/WELD/golden_tiles/geotiff/NBAR/L57.Globe.month02.2010.hh09vv04.h6v1.doy032to059.NBAR.v3.0.tiff',\n",
       " '/data/kotfic/NEX/golden_tile_layer/WELD/golden_tiles/geotiff/NBAR/L57.Globe.month03.2010.hh09vv04.h6v1.doy063to090.NBAR.v3.0.tiff',\n",
       " '/data/kotfic/NEX/golden_tile_layer/WELD/golden_tiles/geotiff/NBAR/L57.Globe.month04.2010.hh09vv04.h6v1.doy091to120.NBAR.v3.0.tiff',\n",
       " '/data/kotfic/NEX/golden_tile_layer/WELD/golden_tiles/geotiff/NBAR/L57.Globe.month05.2010.hh09vv04.h6v1.doy121to144.NBAR.v3.0.tiff',\n",
       " '/data/kotfic/NEX/golden_tile_layer/WELD/golden_tiles/geotiff/NBAR/L57.Globe.month06.2010.hh09vv04.h6v1.doy152to179.NBAR.v3.0.tiff',\n",
       " '/data/kotfic/NEX/golden_tile_layer/WELD/golden_tiles/geotiff/NBAR/L57.Globe.month07.2010.hh09vv04.h6v1.doy183to211.NBAR.v3.0.tiff',\n",
       " '/data/kotfic/NEX/golden_tile_layer/WELD/golden_tiles/geotiff/NBAR/L57.Globe.month08.2010.hh09vv04.h6v1.doy215to242.NBAR.v3.0.tiff',\n",
       " '/data/kotfic/NEX/golden_tile_layer/WELD/golden_tiles/geotiff/NBAR/L57.Globe.month09.2010.hh09vv04.h6v1.doy247to273.NBAR.v3.0.tiff',\n",
       " '/data/kotfic/NEX/golden_tile_layer/WELD/golden_tiles/geotiff/NBAR/L57.Globe.month10.2010.hh09vv04.h6v1.doy274to304.NBAR.v3.0.tiff',\n",
       " '/data/kotfic/NEX/golden_tile_layer/WELD/golden_tiles/geotiff/NBAR/L57.Globe.month11.2010.hh09vv04.h6v1.doy305to328.NBAR.v3.0.tiff',\n",
       " '/data/kotfic/NEX/golden_tile_layer/WELD/golden_tiles/geotiff/NBAR/L57.Globe.month12.2010.hh09vv04.h6v1.doy335to362.NBAR.v3.0.tiff',\n",
       " '/data/kotfic/NEX/golden_tile_layer/WELD/golden_tiles/geotiff/NBAR/L57.Globe.month01.2011.hh09vv04.h6v1.doy002to030.NBAR.v3.0.tiff',\n",
       " '/data/kotfic/NEX/golden_tile_layer/WELD/golden_tiles/geotiff/NBAR/L57.Globe.month02.2011.hh09vv04.h6v1.doy036to059.NBAR.v3.0.tiff',\n",
       " '/data/kotfic/NEX/golden_tile_layer/WELD/golden_tiles/geotiff/NBAR/L57.Globe.month03.2011.hh09vv04.h6v1.doy062to090.NBAR.v3.0.tiff',\n",
       " '/data/kotfic/NEX/golden_tile_layer/WELD/golden_tiles/geotiff/NBAR/L57.Globe.month04.2011.hh09vv04.h6v1.doy091to118.NBAR.v3.0.tiff',\n",
       " '/data/kotfic/NEX/golden_tile_layer/WELD/golden_tiles/geotiff/NBAR/L57.Globe.month05.2011.hh09vv04.h6v1.doy123to150.NBAR.v3.0.tiff',\n",
       " '/data/kotfic/NEX/golden_tile_layer/WELD/golden_tiles/geotiff/NBAR/L57.Globe.month06.2011.hh09vv04.h6v1.doy154to181.NBAR.v3.0.tiff',\n",
       " '/data/kotfic/NEX/golden_tile_layer/WELD/golden_tiles/geotiff/NBAR/L57.Globe.month07.2011.hh09vv04.h6v1.doy182to212.NBAR.v3.0.tiff',\n",
       " '/data/kotfic/NEX/golden_tile_layer/WELD/golden_tiles/geotiff/NBAR/L57.Globe.month08.2011.hh09vv04.h6v1.doy213to243.NBAR.v3.0.tiff',\n",
       " '/data/kotfic/NEX/golden_tile_layer/WELD/golden_tiles/geotiff/NBAR/L57.Globe.month09.2011.hh09vv04.h6v1.doy244to269.NBAR.v3.0.tiff',\n",
       " '/data/kotfic/NEX/golden_tile_layer/WELD/golden_tiles/geotiff/NBAR/L57.Globe.month10.2011.hh09vv04.h6v1.doy275to302.NBAR.v3.0.tiff',\n",
       " '/data/kotfic/NEX/golden_tile_layer/WELD/golden_tiles/geotiff/NBAR/L57.Globe.month11.2011.hh09vv04.h6v1.doy306to324.NBAR.v3.0.tiff']"
      ]
     },
     "execution_count": 5,
     "metadata": {},
     "output_type": "execute_result"
    }
   ],
   "source": [
    "PATHS"
   ]
  },
  {
   "cell_type": "code",
   "execution_count": 6,
   "metadata": {
    "collapsed": false
   },
   "outputs": [],
   "source": [
    "rdc = RasterDataCollection(PATHS)"
   ]
  },
  {
   "cell_type": "code",
   "execution_count": 7,
   "metadata": {
    "collapsed": false
   },
   "outputs": [
    {
     "data": {
      "text/plain": [
       "<promise.promise.Promise at 0x7f6aa604bd90>"
      ]
     },
     "execution_count": 7,
     "metadata": {},
     "output_type": "execute_result"
    }
   ],
   "source": [
    "M.add_layer(rdc[:,[1,2,3]], 'NBAR', opacity=0.8)"
   ]
  },
  {
   "cell_type": "code",
   "execution_count": 14,
   "metadata": {
    "collapsed": false
   },
   "outputs": [
    {
     "data": {
      "text/plain": [
       "<geonotebook.wrappers.RasterData at 0x7f6aa5d93ed0>"
      ]
     },
     "execution_count": 14,
     "metadata": {},
     "output_type": "execute_result"
    }
   ],
   "source": [
    "M.layers[\"NBAR\"].next()"
   ]
  },
  {
   "cell_type": "code",
   "execution_count": 9,
   "metadata": {
    "collapsed": false
   },
   "outputs": [
    {
     "data": {
      "text/plain": [
       "<geonotebook.wrappers.RasterData at 0x7f6aa5dce750>"
      ]
     },
     "execution_count": 9,
     "metadata": {},
     "output_type": "execute_result"
    }
   ],
   "source": [
    "M.layers[\"NBAR\"].prev()"
   ]
  },
  {
   "cell_type": "code",
   "execution_count": 15,
   "metadata": {
    "collapsed": false
   },
   "outputs": [
    {
     "data": {
      "text/plain": [
       "<geonotebook.wrappers.RasterData at 0x7f6aa5d93890>"
      ]
     },
     "execution_count": 15,
     "metadata": {},
     "output_type": "execute_result"
    }
   ],
   "source": [
    "M.layers[\"NBAR\"].seek(0)"
   ]
  },
  {
   "cell_type": "code",
   "execution_count": 16,
   "metadata": {
    "collapsed": false
   },
   "outputs": [
    {
     "data": {
      "text/plain": [
       "36"
      ]
     },
     "execution_count": 16,
     "metadata": {},
     "output_type": "execute_result"
    }
   ],
   "source": [
    "len(M.layers[\"NBAR\"].data)"
   ]
  },
  {
   "cell_type": "code",
   "execution_count": 17,
   "metadata": {
    "collapsed": false
   },
   "outputs": [],
   "source": [
    "def render_timeseries(idx=0):\n",
    "  M.layers[\"NBAR\"].seek(idx)\n",
    "  \n",
    "interact(render_timeseries, idx=(0, len(M.layers[\"NBAR\"].data) - 1))"
   ]
  },
  {
   "cell_type": "code",
   "execution_count": 18,
   "metadata": {
    "collapsed": false
   },
   "outputs": [
    {
     "data": {
      "text/plain": [
       "<geonotebook.wrappers.RasterData at 0x7f6aa5d3f950>"
      ]
     },
     "execution_count": 18,
     "metadata": {},
     "output_type": "execute_result"
    }
   ],
   "source": [
    "M.layers[\"NBAR\"].seek(1)"
   ]
  },
  {
   "cell_type": "code",
   "execution_count": 19,
   "metadata": {
    "collapsed": false
   },
   "outputs": [
    {
     "data": {
      "text/plain": [
       "<promise.promise.Promise at 0x7f6aa5d4a050>"
      ]
     },
     "execution_count": 19,
     "metadata": {},
     "output_type": "execute_result"
    }
   ],
   "source": [
    "M.remove_layer(M.layers[-1].name)"
   ]
  },
  {
   "cell_type": "code",
   "execution_count": 20,
   "metadata": {
    "collapsed": false
   },
   "outputs": [
    {
     "data": {
      "text/plain": [
       "<promise.promise.Promise at 0x7f6aa5d4a350>"
      ]
     },
     "execution_count": 20,
     "metadata": {},
     "output_type": "execute_result"
    }
   ],
   "source": [
    "M.add_layer(rdc[:,[4]], 'NBAR_NDVI', opacity=0.8)"
   ]
  },
  {
   "cell_type": "code",
   "execution_count": 29,
   "metadata": {
    "collapsed": false
   },
   "outputs": [
    {
     "data": {
      "text/plain": [
       "<promise.promise.Promise at 0x7f6aa5d4a390>"
      ]
     },
     "execution_count": 29,
     "metadata": {},
     "output_type": "execute_result"
    }
   ],
   "source": [
    "M.remove_layer(\"NBAR_NDVI\")"
   ]
  },
  {
   "cell_type": "code",
   "execution_count": 22,
   "metadata": {
    "collapsed": false
   },
   "outputs": [],
   "source": [
    "def ndvi_colormap(numcolors=11, name='custom_div_cmap', \n",
    "                  mincol='blue', midcol='beige', maxcol='green'):\n",
    "  return mpl.colors.LinearSegmentedColormap.from_list(\n",
    "    name=name, colors=[mincol, midcol, maxcol], N=numcolors)\n",
    "\n",
    "cmap = ndvi_colormap()\n"
   ]
  },
  {
   "cell_type": "code",
   "execution_count": 23,
   "metadata": {
    "collapsed": false
   },
   "outputs": [],
   "source": [
    "colormap = [{\"color\": mpl.colors.rgb2hex(cmap(i)), \"quantity\": v }\n",
    " for i,v in zip(range(cmap.N),np.linspace(min(rdc[:,4].min), max(rdc[:,4].max), cmap.N))]"
   ]
  },
  {
   "cell_type": "code",
   "execution_count": 24,
   "metadata": {
    "collapsed": false
   },
   "outputs": [
    {
     "data": {
      "text/plain": [
       "[{'color': u'#0000ff', 'quantity': -1.0},\n",
       " {'color': u'#3131f8', 'quantity': -0.85065351524498001},\n",
       " {'color': u'#6262f1', 'quantity': -0.70130703048996001},\n",
       " {'color': u'#9393ea', 'quantity': -0.55196054573494002},\n",
       " {'color': u'#c4c4e3', 'quantity': -0.40261406097992003},\n",
       " {'color': u'#f5f5dc', 'quantity': -0.25326757622490004},\n",
       " {'color': u'#c4deb0', 'quantity': -0.10392109146988004},\n",
       " {'color': u'#93c684', 'quantity': 0.045425393285139837},\n",
       " {'color': u'#62af58', 'quantity': 0.19477187804015994},\n",
       " {'color': u'#31972c', 'quantity': 0.34411836279518004},\n",
       " {'color': u'#008000', 'quantity': 0.49346484755019998}]"
      ]
     },
     "execution_count": 24,
     "metadata": {},
     "output_type": "execute_result"
    }
   ],
   "source": [
    "colormap"
   ]
  },
  {
   "cell_type": "code",
   "execution_count": 25,
   "metadata": {
    "collapsed": false
   },
   "outputs": [
    {
     "data": {
      "text/plain": [
       "<promise.promise.Promise at 0x7f6aa5d4a610>"
      ]
     },
     "execution_count": 25,
     "metadata": {},
     "output_type": "execute_result"
    }
   ],
   "source": [
    "M.add_layer(rdc[:,4], 'NBAR_NDVI', colormap=colormap, opacity=0.8)"
   ]
  },
  {
   "cell_type": "code",
   "execution_count": 27,
   "metadata": {
    "collapsed": false
   },
   "outputs": [
    {
     "data": {
      "text/plain": [
       "<geonotebook.wrappers.RasterData at 0x7f6aa5d4af50>"
      ]
     },
     "execution_count": 27,
     "metadata": {},
     "output_type": "execute_result"
    }
   ],
   "source": [
    "M.layers['NBAR_NDVI'].next()"
   ]
  },
  {
   "cell_type": "code",
   "execution_count": 31,
   "metadata": {
    "collapsed": false
   },
   "outputs": [
    {
     "data": {
      "text/plain": [
       "GeonotebookStack([<TimeSeriesLayer('NBAR')>, <TimeSeriesLayer('NBAR_NDVI')>])"
      ]
     },
     "execution_count": 31,
     "metadata": {},
     "output_type": "execute_result"
    }
   ],
   "source": [
    "M.layers"
   ]
  }
 ],
 "metadata": {
  "kernelspec": {
   "display_name": "Geonotebook (Python 2)",
   "language": "python",
   "name": "geonotebook2"
  },
  "language_info": {
   "codemirror_mode": {
    "name": "ipython",
    "version": 2
   },
   "file_extension": ".py",
   "mimetype": "text/x-python",
   "name": "python",
   "nbconvert_exporter": "python",
   "pygments_lexer": "ipython2",
   "version": "2.7.12"
  },
  "widgets": {
   "state": {
    "3bb8c7b0eee14296a59531e23c74aef6": {
     "views": []
    },
    "3f1b4ece64c144459f3d43d9133d2b45": {
     "views": [
      {
       "cell_index": 11
      }
     ]
    },
    "400fe971ed0b46cba337c250a00d8254": {
     "views": []
    },
    "e1d4f1f29b8d44ba9bfa4d6db2fbdc88": {
     "views": []
    }
   },
   "version": "1.1.2"
  }
 },
 "nbformat": 4,
 "nbformat_minor": 1
}
