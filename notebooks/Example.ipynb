{
 "cells": [
  {
   "cell_type": "markdown",
   "metadata": {},
   "source": [
    "## The geonotebook object\n",
    "\n",
    "The ```M``` object is inserted into the kernel automatically once the notebook is started.  This object lives inside the Python kernel's namespace and communicates information to (and receives information from) the GeoJS map. "
   ]
  },
  {
   "cell_type": "code",
   "execution_count": null,
   "metadata": {
    "collapsed": false
   },
   "outputs": [],
   "source": [
    "M"
   ]
  },
  {
   "cell_type": "markdown",
   "metadata": {},
   "source": [
    "### Set the map's center\n",
    "\n",
    "Executing the following cell should set the center of the map to New York State.  It is importaint to understand this is a Python statement being made inside the Python kernel. It is using a remote proceedure call to change the javascript map's location. The arguments are latitude,  longitude,  and zoom level.\n",
    "\n",
    "This demonstrates the Python kernel's ability to communicate with the GeoJS map object.\n"
   ]
  },
  {
   "cell_type": "code",
   "execution_count": null,
   "metadata": {
    "collapsed": false
   },
   "outputs": [],
   "source": [
    "M.set_center(-74, 43, 6)"
   ]
  },
  {
   "cell_type": "markdown",
   "metadata": {},
   "source": [
    "### Select a region\n",
    "\n",
    "On a fresh start/restart executing the following cell should return nothing initially. Region is populated by selecting a region on the map. You can select a region by holding control and shift,  then clicking down on the upper left hand corner of the region you wish to select, dragging the mouse,  and releasing on the lower right hand corner of the region (a grey box should appear that displays the region as it is being selected).  Executing the following cell after selecting a region should return a BBox object with the upper left point and the lower right point.\n",
    "\n",
    "This demonstrates the GeoJS map's ability to communicate with the Geonotebook kernel."
   ]
  },
  {
   "cell_type": "code",
   "execution_count": null,
   "metadata": {
    "collapsed": false
   },
   "outputs": [],
   "source": [
    "M.region"
   ]
  },
  {
   "cell_type": "markdown",
   "metadata": {},
   "source": [
    "### Widget example\n",
    "\n",
    "Because ```M.set_center``` is just a Python function,  it can leverage the existing widget extension to the notebook.  First you must ensure that ```ipywidgets``` extension is [installed](http://ipywidgets.readthedocs.io/en/latest/user_install.html). **If you are running from a virtual environment** the following commands should suffice:"
   ]
  },
  {
   "cell_type": "code",
   "execution_count": null,
   "metadata": {
    "collapsed": false
   },
   "outputs": [],
   "source": [
    "!pip install ipywidgets\n",
    "!jupyter nbextension enable --py widgetsnbextension --sys-prefix"
   ]
  },
  {
   "cell_type": "markdown",
   "metadata": {},
   "source": [
    "The following cell should generate sliders that interactively manipulate the map latitude, longitude and zoom levels."
   ]
  },
  {
   "cell_type": "code",
   "execution_count": null,
   "metadata": {
    "collapsed": false
   },
   "outputs": [],
   "source": [
    "from ipywidgets import interact\n",
    "import ipywidgets as widgets\n",
    "\n",
    "def map_widgets(lat=(-180.0, 180.0), lon=(-90.0, 90.0), zoom=(1, 9)):\n",
    "  M.set_center(lat, lon, zoom)\n",
    "  \n",
    "interact(map_widgets)"
   ]
  },
  {
   "cell_type": "markdown",
   "metadata": {},
   "source": [
    "### Some text that pushes to cells beyond the size of the map\n",
    "\n",
    "This text just shows what happens when the number of cells grow larger than the map. There should be a scroll bar for the cells, while the map remains on the right hand side.\n",
    "\n",
    "Lorem ipsum dolor sit amet, consectetur adipiscing elit. Morbi accumsan purus id eros sagittis lobortis. Nullam porta, nunc et pellentesque viverra, mauris felis vestibulum nunc, cursus molestie mi sapien ac leo. Nullam vitae pretium purus, id accumsan tellus. Nulla dapibus dignissim efficitur. Nulla consectetur ipsum eget luctus scelerisque. Phasellus consectetur mi nec vestibulum fermentum. Class aptent taciti sociosqu ad litora torquent per conubia nostra, per inceptos himenaeos. Phasellus feugiat est nec ullamcorper maximus. Nulla egestas sem eu ornare convallis. Quisque eu risus ac nisl interdum ultricies nec a mi. Praesent molestie, urna varius eleifend vehicula, velit ex consequat nulla, quis semper dolor tellus nec urna. Mauris malesuada non nunc vitae blandit. In ullamcorper lacinia nibh ac accumsan.\n",
    "\n",
    "Nulla laoreet ultricies est vitae maximus. Proin ullamcorper eros ultrices velit tristique lobortis. In diam odio, bibendum vel laoreet vitae, ultrices a turpis. Duis id nisi pretium, posuere est vel, molestie justo. Donec ornare diam lectus, nec efficitur arcu lacinia vel. Morbi vitae lacus enim. Morbi sit amet varius odio, dapibus porta lacus. Duis turpis nunc, consequat sit amet laoreet nec, vestibulum sit amet eros. Vestibulum dolor enim, fringilla sit amet nibh sit amet, ullamcorper ornare lacus. Sed in mollis sem. Sed eget urna massa. Duis maximus fermentum elit. Etiam bibendum, nibh ac dapibus auctor, sapien purus dapibus neque, vel ultricies orci justo in tortor.\n",
    "\n",
    "Pellentesque sed tempor turpis. Aenean id ullamcorper sem, eu auctor libero. Ut facilisis ac lectus eget ornare. Donec malesuada nisi vitae tortor venenatis, non elementum elit faucibus. Curabitur consectetur metus quam, id condimentum libero fringilla a. Pellentesque nec arcu quis lectus vestibulum volutpat pretium nec nunc. Sed elementum turpis sed tellus venenatis, eget fermentum odio iaculis. Nunc hendrerit sollicitudin libero, rutrum volutpat tellus viverra eu. Etiam justo ex, malesuada vel ligula in, egestas venenatis justo. Curabitur sed varius lorem. Nam vitae augue eros. Vestibulum vulputate varius accumsan. Cras egestas non dui eu efficitur.\n",
    "\n",
    "Cras at justo sit amet diam scelerisque aliquet. Sed ut magna lacinia, lacinia sem at, accumsan nunc. Integer mi magna, consectetur quis urna sed, rhoncus malesuada mi. Phasellus et risus varius, tincidunt nibh sed, auctor nisl. Integer ac mauris vitae massa condimentum rutrum eget id nisi. Fusce a libero nulla. Nullam id enim sed sem ultrices gravida quis at tortor. Integer urna nunc, lobortis eget tristique eu, mattis vitae lectus. Praesent fermentum sollicitudin velit ac porta. Donec vel velit ac arcu molestie pulvinar nec quis augue. Integer suscipit leo neque, nec fringilla nibh tincidunt ac. Praesent ultrices massa ac imperdiet convallis. Sed vitae odio ut orci accumsan pharetra. Quisque rhoncus posuere posuere.\n",
    "\n",
    "Donec luctus, felis fermentum venenatis pharetra, arcu turpis aliquam dolor, quis congue dolor est eget urna. Nullam feugiat quam nisl, pharetra convallis dui placerat vel. Sed dapibus maximus dui, sed commodo velit porttitor in. Praesent rhoncus purus erat, non sagittis libero placerat at. In hac habitasse platea dictumst. Vestibulum molestie quam nulla, a vehicula orci tristique eu. Cras euismod eu dolor ac accumsan. Aenean at diam diam. In a dignissim diam. In nec molestie enim, at facilisis nisl. Nam arcu dolor, porttitor non sodales non, feugiat vel nibh. Vivamus lectus lectus, ornare quis velit in, lacinia dapibus nisi. Nunc at rhoncus quam. Vestibulum mattis, elit e"
   ]
  }
 ],
 "metadata": {
  "kernelspec": {
   "display_name": "Geonotebook (Python 2)",
   "language": "python",
   "name": "geonotebook2"
  },
  "language_info": {
   "codemirror_mode": {
    "name": "ipython",
    "version": 2
   },
   "file_extension": ".py",
   "mimetype": "text/x-python",
   "name": "python",
   "nbconvert_exporter": "python",
   "pygments_lexer": "ipython2",
   "version": "2.7.12"
  },
  "widgets": {
   "state": {
    "0546e7b0df044d9383635dc30a24b222": {
     "views": []
    },
    "1ba3d5f4284d4c59a0e649b29d651912": {
     "views": []
    },
    "286ec232ca6d43b3a88252450a6fcd38": {
     "views": []
    },
    "3459ddf7ea144e788283e90c62bedf2f": {
     "views": [
      {
       "cell_index": 6
      }
     ]
    },
    "36df5dc5053b4681804137720b06e724": {
     "views": []
    },
    "9f24edff217d4028a72622f35f15e9c4": {
     "views": []
    },
    "a64dce7021bd41ed885d416b44a57ec6": {
     "views": []
    },
    "d77c30fac8af4b67817ad4dfa8ef728c": {
     "views": []
    }
   },
   "version": "1.1.2"
  }
 },
 "nbformat": 4,
 "nbformat_minor": 1
}
