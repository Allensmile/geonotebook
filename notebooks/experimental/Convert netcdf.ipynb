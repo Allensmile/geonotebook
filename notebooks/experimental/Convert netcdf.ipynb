{
 "cells": [
  {
   "cell_type": "code",
   "execution_count": null,
   "metadata": {
    "collapsed": false,
    "deletable": true,
    "editable": true
   },
   "outputs": [],
   "source": [
    "%matplotlib inline\n",
    "from matplotlib import pylab as plt\n",
    "from netCDF4 import Dataset\n",
    "import rasterio\n",
    "from geonotebook.wrappers import RasterData"
   ]
  },
  {
   "cell_type": "code",
   "execution_count": null,
   "metadata": {
    "collapsed": false,
    "deletable": true,
    "editable": true
   },
   "outputs": [],
   "source": [
    "nc = Dataset('tasmax.nc')\n",
    "tasmax = nc.variables['tasmax']\n",
    "plt.imshow(np.flipud(tasmax[0, ...]))"
   ]
  },
  {
   "cell_type": "code",
   "execution_count": null,
   "metadata": {
    "collapsed": false,
    "deletable": true,
    "editable": true
   },
   "outputs": [],
   "source": [
    "N, height, width = tasmax.shape\n",
    "\n",
    "lat = nc.variables['lat']\n",
    "lon = nc.variables['lon']\n",
    "x0, y0 = lon[width / 2] - 360, lat[-1]\n",
    "dx, dy = lon[1] - lon[0], lat[1] - lat[0]\n",
    "\n",
    "crs = {'init': 'EPSG:4326'}\n",
    "transform = rasterio.transform.from_origin(x0, y0, dx, dy)"
   ]
  },
  {
   "cell_type": "code",
   "execution_count": null,
   "metadata": {
    "collapsed": false,
    "deletable": true,
    "editable": true
   },
   "outputs": [],
   "source": [
    "with rasterio.open(\n",
    "    'tasmax.tiff', 'w', driver='GTiff',\n",
    "    height=height, width=width,\n",
    "    count=1, dtype=tasmax.dtype,\n",
    "    crs=crs, transform=transform,\n",
    "    nodata=tasmax.missing_value) as tiff:\n",
    "\n",
    "    for i in xrange(1):\n",
    "        data = np.flipud(\n",
    "            np.roll(\n",
    "                tasmax[i, ...],\n",
    "                width / 2,\n",
    "                axis=1\n",
    "            )\n",
    "        )\n",
    "        tiff.write(data, i + 1)\n",
    "    tiff.write_mask(True)"
   ]
  },
  {
   "cell_type": "code",
   "execution_count": null,
   "metadata": {
    "collapsed": false,
    "deletable": true,
    "editable": true
   },
   "outputs": [],
   "source": [
    "for layer in M.layers:\n",
    "    M.remove_layer(layer)\n",
    "    \n",
    "rd = RasterData('tasmax.tiff')\n",
    "cmap = plt.get_cmap('viridis', 16)\n",
    "M.add_layer(rd[1], opacity=0.75, colormap=cmap)"
   ]
  }
 ],
 "metadata": {
  "kernelspec": {
   "display_name": "Geonotebook (Python 2)",
   "language": "python",
   "name": "geonotebook2"
  },
  "language_info": {
   "codemirror_mode": {
    "name": "ipython",
    "version": 2
   },
   "file_extension": ".py",
   "mimetype": "text/x-python",
   "name": "python",
   "nbconvert_exporter": "python",
   "pygments_lexer": "ipython2",
   "version": "2.7.13"
  }
 },
 "nbformat": 4,
 "nbformat_minor": 2
}
