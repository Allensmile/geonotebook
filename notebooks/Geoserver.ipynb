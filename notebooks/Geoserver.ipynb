{
 "cells": [
  {
   "cell_type": "code",
   "execution_count": null,
   "metadata": {
    "collapsed": true
   },
   "outputs": [],
   "source": [
    "%matplotlib inline\n",
    "from matplotlib import pylab as plt"
   ]
  },
  {
   "cell_type": "markdown",
   "metadata": {},
   "source": [
    "### Make sure you have the geoserver VM running\n",
    "\n",
    "this should show something like:\n",
    "\n",
    "```\n",
    "Current machine states:\n",
    "\n",
    "geoserver                 running (virtualbox)\n",
    "\n",
    "The VM is running. To stop this VM, you can run `vagrant halt` to\n",
    "shut it down forcefully, or you can run `vagrant suspend` to simply\n",
    "suspend the virtual machine. In either case, to restart it again,\n",
    "simply run `vagrant up`.\n",
    "```\n",
    "\n",
    "You can do this by going to the geoserver/ directory and running ```vagrant up```"
   ]
  },
  {
   "cell_type": "code",
   "execution_count": null,
   "metadata": {
    "collapsed": false
   },
   "outputs": [],
   "source": [
    "!cd ../geoserver && vagrant status"
   ]
  },
  {
   "cell_type": "markdown",
   "metadata": {},
   "source": [
    "### Display geoserver status\n",
    "\n",
    "This should ensure the client can successfully connect to your VM,  if you do not see the Geoserver 'Status' page then something is wrong!"
   ]
  },
  {
   "cell_type": "code",
   "execution_count": null,
   "metadata": {
    "collapsed": false
   },
   "outputs": [],
   "source": [
    "from IPython.core.display import display, HTML\n",
    "from geonotebook.config import Config\n",
    "geoserver = Config().vis_server\n",
    "display(HTML(geoserver.c.get(\"/about/status\").text))"
   ]
  },
  {
   "cell_type": "markdown",
   "metadata": {},
   "source": [
    "### Get the rgb.tif file from data.kitware.com"
   ]
  },
  {
   "cell_type": "code",
   "execution_count": null,
   "metadata": {
    "collapsed": false
   },
   "outputs": [],
   "source": [
    "!wget -O /tmp/rgb.tif https://data.kitware.com/api/v1/file/57bf01ff8d777f10f269cff4/download"
   ]
  },
  {
   "cell_type": "markdown",
   "metadata": {},
   "source": [
    "### Add the layer to the map"
   ]
  },
  {
   "cell_type": "code",
   "execution_count": null,
   "metadata": {
    "collapsed": true
   },
   "outputs": [],
   "source": [
    "DATA_DIR=\"/data/kotfic/NEX/golden_tile_layer/WELD/golden_tiles/geotiff/TOA/\""
   ]
  },
  {
   "cell_type": "code",
   "execution_count": null,
   "metadata": {
    "collapsed": false
   },
   "outputs": [],
   "source": [
    "from geonotebook.wrappers import RasterData\n",
    "rd = RasterData(DATA_DIR +  'L57.Globe.month01.2010.hh09vv04.h6v1.doy003to027.TOA.v3.0.tiff')\n",
    "\n",
    "# rdc = RasterCollection([\"/tmp/rgb1.tif\", \"/tmp/rgb2.tif\", \"/tmp/rgb3.tif\"])"
   ]
  },
  {
   "cell_type": "code",
   "execution_count": null,
   "metadata": {
    "collapsed": false
   },
   "outputs": [],
   "source": [
    "# gt.describe()\n",
    "\n",
    "M.add_layer(rd.bands[1, 2, 3], opacity=0.9, range=(0,0.6))\n"
   ]
  },
  {
   "cell_type": "code",
   "execution_count": null,
   "metadata": {
    "collapsed": false,
    "scrolled": true
   },
   "outputs": [],
   "source": [
    "M.remove_layer(M.layers[-1].name)"
   ]
  },
  {
   "cell_type": "code",
   "execution_count": null,
   "metadata": {
    "collapsed": false,
    "scrolled": false
   },
   "outputs": [],
   "source": [
    "import numpy as np\n",
    "\n",
    "fig, ax = plt.subplots(figsize=(16, 16))\n",
    "from skimage.exposure import rescale_intensity\n",
    "# Display BRG\n",
    "# n = M.layers['rgb'].region\n",
    "\n",
    "# Flip the second axis to get RGB\n",
    "n =  M.layers[-1].region\n",
    "\n",
    "ax.imshow(rescale_intensity(n), interpolation='none')"
   ]
  },
  {
   "cell_type": "code",
   "execution_count": null,
   "metadata": {
    "collapsed": false,
    "scrolled": false
   },
   "outputs": [],
   "source": [
    "import numpy as np\n",
    "\n",
    "from skimage.color import rgb2gray\n",
    "from skimage.exposure import rescale_intensity\n",
    "from skimage import measure\n",
    "\n",
    "def contours(level=0.5):\n",
    "  fig, ax = plt.subplots(figsize=(16, 16))\n",
    "  \n",
    "  n = rescale_intensity( M.layers[-1].region )\n",
    "\n",
    "  contours = measure.find_contours(rgb2gray(n), level)\n",
    "\n",
    "\n",
    "  ax.imshow(n, interpolation='none')\n",
    "\n",
    "  ax.axis('tight')\n",
    "  \n",
    "  for n, contour in enumerate(contours):\n",
    "    ax.plot(contour[:, 1], contour[:, 0], linewidth=2)\n",
    "  \n",
    "  \n",
    "contours(0.07)"
   ]
  },
  {
   "cell_type": "code",
   "execution_count": null,
   "metadata": {
    "collapsed": false,
    "scrolled": false
   },
   "outputs": [],
   "source": [
    "from ipywidgets import interact\n",
    "import ipywidgets as widgets\n",
    "\n",
    "interact(contours, level=(0.0, 1.0, 0.05))"
   ]
  },
  {
   "cell_type": "code",
   "execution_count": null,
   "metadata": {
    "collapsed": false
   },
   "outputs": [],
   "source": [
    "# Modified from\n",
    "# http://scikit-image.org/docs/dev/auto_examples/features_detection/plot_blob.html#sphx-glr-auto-examples-features-detection-plot-blob-py\n",
    "\n",
    "from skimage import data\n",
    "from skimage.feature import blob_dog, blob_log, blob_doh\n",
    "from math import sqrt\n",
    "from skimage.color import rgb2gray\n",
    "\n",
    "\n",
    "def blobs(max_sigma=30, num_sigma=10, threshold=.1):\n",
    "  image = rescale_intensity(M.layers[-1].region)\n",
    "  image_gray = rgb2gray(image)\n",
    "\n",
    "\n",
    "  blobs_log = blob_log(image_gray, \n",
    "                       max_sigma=max_sigma, \n",
    "                       num_sigma=num_sigma, \n",
    "                       threshold=threshold)\n",
    "  # Compute radii in the 3rd column.\n",
    "  blobs_log[:, 2] = blobs_log[:, 2] * sqrt(2)\n",
    "\n",
    "  blobs_list = [blobs_log]\n",
    "  colors = ['yellow']\n",
    "  titles = ['Laplacian of Gaussian']\n",
    "  sequence = zip(blobs_list, colors, titles)\n",
    "\n",
    "  fig, ax = plt.subplots(1, 1, figsize=(16, 16), sharex=True, sharey=True,\n",
    "                         subplot_kw={'adjustable': 'box-forced'})\n",
    "  plt.tight_layout()\n",
    "\n",
    "  # axes = axes.ravel()\n",
    "  for blobs, color, title in sequence:\n",
    "      ax.set_title(title)\n",
    "      ax.imshow(image, interpolation='nearest')\n",
    "      ax.set_axis_off()\n",
    "      for blob in blobs:\n",
    "          y, x, r = blob\n",
    "          c = plt.Circle((x, y), r, color=color, linewidth=2, fill=False)\n",
    "          ax.add_patch(c)\n",
    "\n",
    "  plt.show()\n",
    "  \n",
    "  \n",
    "interact(blobs, max_sigma=(0, 60), num_sigma=(0, 20), threshold=(0.0, 0.2, 0.01))\n"
   ]
  }
 ],
 "metadata": {
  "kernelspec": {
   "display_name": "Geonotebook (Python 2)",
   "language": "python",
   "name": "geonotebook2"
  },
  "language_info": {
   "codemirror_mode": {
    "name": "ipython",
    "version": 2
   },
   "file_extension": ".py",
   "mimetype": "text/x-python",
   "name": "python",
   "nbconvert_exporter": "python",
   "pygments_lexer": "ipython2",
   "version": "2.7.12"
  },
  "widgets": {
   "state": {},
   "version": "1.1.2"
  }
 },
 "nbformat": 4,
 "nbformat_minor": 1
}
