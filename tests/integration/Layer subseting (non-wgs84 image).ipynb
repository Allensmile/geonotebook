{
 "cells": [
  {
   "cell_type": "code",
   "execution_count": null,
   "metadata": {
    "collapsed": true
   },
   "outputs": [],
   "source": [
    "%matplotlib inline\n",
    "from matplotlib import pylab as plt\n",
    "from matplotlib.colors import LinearSegmentedColormap\n",
    "from geonotebook.wrappers import RasterData, VectorData\n",
    "import numpy as np\n",
    "from IPython.display import display, Image"
   ]
  },
  {
   "cell_type": "markdown",
   "metadata": {},
   "source": [
    "### Subsetting points"
   ]
  },
  {
   "cell_type": "code",
   "execution_count": null,
   "metadata": {},
   "outputs": [],
   "source": [
    "EXPECTED=\"https://data.kitware.com/api/v1/item/5970fa4c8d777f16d01e9c64/download\"\n",
    "# Set the center of the map to the location the data\n",
    "M.set_center(-114.32, 42.54, 10)\n",
    "\n",
    "# Clean up any layers that might already exist\n",
    "M.layers.annotation.clear_annotations()\n",
    "for l in M.layers:\n",
    "    M.remove_layer(l)\n",
    "\n",
    "rd = RasterData('data/2016-07-13_ndvi.tif')\n",
    "\n",
    "M.add_layer(rd)\n",
    "M.add_annotation('point', [-114.32, 42.54])\n",
    "\n",
    "display(Image(EXPECTED, format=\"png\"))"
   ]
  },
  {
   "cell_type": "code",
   "execution_count": null,
   "metadata": {
    "collapsed": true
   },
   "outputs": [],
   "source": [
    "layer, data = next(M.layers.annotation.points[0].data)\n",
    "assert layer == M.layers[0]\n",
    "assert all(np.isclose(data, [0.0629543], atol=10e-4))\n",
    "data"
   ]
  },
  {
   "cell_type": "markdown",
   "metadata": {},
   "source": [
    "### Subsetting rectangles"
   ]
  },
  {
   "cell_type": "code",
   "execution_count": null,
   "metadata": {},
   "outputs": [],
   "source": [
    "EXPECTED=\"https://data.kitware.com/api/v1/item/5970fa4c8d777f16d01e9c6a/download\"\n",
    "# Set the center of the map to the location the data\n",
    "M.set_center(-114.32, 42.55, 13)\n",
    "\n",
    "# Clean up any layers that might already exist\n",
    "M.layers.annotation.clear_annotations()\n",
    "for l in M.layers:\n",
    "    M.remove_layer(l)\n",
    "\n",
    "rd = RasterData('data/2016-07-13_ndvi.tif')\n",
    "\n",
    "M.add_layer(rd)\n",
    "M.add_annotation('rectangle', [[-114.354, 42.552],\n",
    "                               [-114.289, 42.552],\n",
    "                               [-114.289, 42.592],\n",
    "                               [-114.354, 42.592]])\n",
    "\n",
    "display(Image(EXPECTED, format=\"png\"))"
   ]
  },
  {
   "cell_type": "code",
   "execution_count": null,
   "metadata": {
    "collapsed": true
   },
   "outputs": [],
   "source": [
    "layer, data = next(M.layers.annotation.rectangles[0].data)\n",
    "assert layer == M.layers[0]\n",
    "assert data.shape == (922, 1039)\n",
    "assert all(np.isclose(data[0, 0], [-0.0276489], atol=10e-4))\n",
    "plt.imshow(data)"
   ]
  },
  {
   "cell_type": "markdown",
   "metadata": {
    "collapsed": true
   },
   "source": [
    "### Subsetting polygons"
   ]
  },
  {
   "cell_type": "code",
   "execution_count": null,
   "metadata": {
    "collapsed": true
   },
   "outputs": [],
   "source": [
    "EXPECTED=\"https://data.kitware.com/api/v1/item/5970fa4c8d777f16d01e9c67/download\"\n",
    "# Set the center of the map to the location the data\n",
    "M.set_center(-114.32, 42.55, 13)\n",
    "\n",
    "# Clean up any layers that might already exist\n",
    "M.layers.annotation.clear_annotations()\n",
    "for l in M.layers:\n",
    "    M.remove_layer(l)\n",
    "\n",
    "rd = RasterData('data/2016-07-13_ndvi.tif')\n",
    "\n",
    "M.add_layer(rd)\n",
    "M.add_annotation('polygon', [\n",
    "    [-114.32888031005858, 42.557379595507584], [-114.30913925170897, 42.557758931865564],\n",
    "    [-114.28218841552733, 42.57356256365908], [-114.30192947387694, 42.58658174759232],\n",
    "    [-114.31257247924805, 42.57646999580827], [-114.33677673339842, 42.582031662229916],\n",
    "    [-114.34038162231444, 42.572930495255626], [-114.32888031005858, 42.557379595507584]\n",
    "])\n",
    "\n",
    "display(Image(EXPECTED, format=\"png\"))"
   ]
  },
  {
   "cell_type": "code",
   "execution_count": null,
   "metadata": {
    "collapsed": true
   },
   "outputs": [],
   "source": [
    "layer, data = next(M.layers.annotation.polygons[0].data)\n",
    "assert layer == M.layers[0]\n",
    "assert data.shape == (679, 935)\n",
    "assert all(np.isclose(data[300, 300], [0.0263813], atol=10e-4))\n",
    "plt.imshow(data)"
   ]
  },
  {
   "cell_type": "code",
   "execution_count": null,
   "metadata": {
    "collapsed": true
   },
   "outputs": [],
   "source": []
  }
 ],
 "metadata": {
  "kernelspec": {
   "display_name": "Geonotebook (Python 2)",
   "language": "python",
   "name": "geonotebook2"
  },
  "language_info": {
   "codemirror_mode": {
    "name": "ipython",
    "version": 2
   },
   "file_extension": ".py",
   "mimetype": "text/x-python",
   "name": "python",
   "nbconvert_exporter": "python",
   "pygments_lexer": "ipython2",
   "version": "2.7.13"
  }
 },
 "nbformat": 4,
 "nbformat_minor": 2
}
