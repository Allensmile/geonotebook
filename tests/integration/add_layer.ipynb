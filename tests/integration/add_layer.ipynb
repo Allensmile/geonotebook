{
 "cells": [
  {
   "cell_type": "code",
   "execution_count": null,
   "metadata": {
    "collapsed": true
   },
   "outputs": [],
   "source": [
    "%matplotlib inline\n",
    "from matplotlib import pylab as plt\n",
    "from matplotlib.colors import LinearSegmentedColormap\n",
    "from geonotebook.wrappers import RasterData"
   ]
  },
  {
   "cell_type": "markdown",
   "metadata": {},
   "source": [
    "### Unstyled RGB Layer"
   ]
  },
  {
   "cell_type": "code",
   "execution_count": null,
   "metadata": {
    "collapsed": false
   },
   "outputs": [],
   "source": [
    "# Set the center of the map to the location the data\n",
    "M.set_center(-120.32, 47.84, 8)\n",
    "\n",
    "# Clean up any layers that might already exist\n",
    "for l in M.layers:\n",
    "    M.remove_layer(l)\n",
    "\n",
    "rd = RasterData('data/WELD.tif')\n",
    "\n",
    "M.add_layer(rd[1, 2, 3])\n",
    "# TODO: Add image for comparison"
   ]
  },
  {
   "cell_type": "markdown",
   "metadata": {},
   "source": [
    "### Unstyled NDVI Layer"
   ]
  },
  {
   "cell_type": "code",
   "execution_count": null,
   "metadata": {
    "collapsed": false
   },
   "outputs": [],
   "source": [
    "M.set_center(-120.32, 47.84, 8)\n",
    "M.layers.annotation.clear_annotations()\n",
    "for l in M.layers:\n",
    "    M.remove_layer(l)\n",
    "\n",
    "rd = RasterData('data/WELD.tif')\n",
    "M.add_layer(rd[4])\n",
    "# TODO: Add image for comparison"
   ]
  },
  {
   "cell_type": "markdown",
   "metadata": {},
   "source": [
    "### Winter Colormap w/ NDVI Layer"
   ]
  },
  {
   "cell_type": "code",
   "execution_count": 4,
   "metadata": {
    "collapsed": false
   },
   "outputs": [
    {
     "data": {
      "text/plain": [
       "<promise.promise.Promise at 0x7ff46bf81610>"
      ]
     },
     "execution_count": 4,
     "metadata": {},
     "output_type": "execute_result"
    }
   ],
   "source": [
    "M.set_center(-120.32, 47.84, 8)\n",
    "for l in M.layers:\n",
    "    M.remove_layer(l)\n",
    "\n",
    "rd = RasterData('data/WELD.tif')\n",
    "\n",
    "# Create Colormap\n",
    "cmap = plt.get_cmap('winter', 10)\n",
    "\n",
    "M.add_layer(rd[4], colormap=cmap)\n",
    "# TODO: Add image for comparison"
   ]
  },
  {
   "cell_type": "markdown",
   "metadata": {},
   "source": [
    "### Custom Colormap w/ NDVI Layer"
   ]
  },
  {
   "cell_type": "code",
   "execution_count": 5,
   "metadata": {
    "collapsed": false
   },
   "outputs": [
    {
     "data": {
      "text/plain": [
       "<promise.promise.Promise at 0x7ff46bf81fd0>"
      ]
     },
     "execution_count": 5,
     "metadata": {},
     "output_type": "execute_result"
    }
   ],
   "source": [
    "M.set_center(-120.32, 47.84, 8)\n",
    "for l in M.layers:\n",
    "    M.remove_layer(l)\n",
    "\n",
    "rd = RasterData('data/WELD.tif')\n",
    "\n",
    "cmap =LinearSegmentedColormap.from_list(\n",
    "  'ndvi', ['blue', 'beige', 'green'], 20)\n",
    "\n",
    "M.add_layer(rd[4], colormap=cmap)"
   ]
  }
 ],
 "metadata": {
  "kernelspec": {
   "display_name": "Geonotebook (Python 2)",
   "language": "python",
   "name": "geonotebook2"
  },
  "language_info": {
   "codemirror_mode": {
    "name": "ipython",
    "version": 2
   },
   "file_extension": ".py",
   "mimetype": "text/x-python",
   "name": "python",
   "nbconvert_exporter": "python",
   "pygments_lexer": "ipython2",
   "version": "2.7.12"
  }
 },
 "nbformat": 4,
 "nbformat_minor": 2
}
